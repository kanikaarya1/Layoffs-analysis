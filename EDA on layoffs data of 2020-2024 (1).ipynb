{
 "cells": [
  {
   "cell_type": "markdown",
   "id": "c9be669b",
   "metadata": {},
   "source": [
    "# Layoffs dataset 2020-2024 - Exploratory Data Analyis(EDA)\n",
    "## (Understanding Trends and Patterns)\n",
    "-by kanika Arya\n",
    "\n",
    "-This dataset is taken from kaggle"
   ]
  },
  {
   "cell_type": "code",
   "execution_count": 1,
   "id": "f2983cc5",
   "metadata": {},
   "outputs": [],
   "source": [
    "#importing the libraries\n",
    "import pandas as pd\n",
    "import numpy as np\n",
    "import matplotlib.pyplot as plt\n",
    "import seaborn as sns"
   ]
  },
  {
   "cell_type": "code",
   "execution_count": 2,
   "id": "5c12729b",
   "metadata": {},
   "outputs": [],
   "source": [
    "#load the dataset\n",
    "df=pd.read_csv('layoffs_data.csv')"
   ]
  },
  {
   "cell_type": "code",
   "execution_count": 3,
   "id": "434a48fd",
   "metadata": {},
   "outputs": [
    {
     "data": {
      "text/html": [
       "<div>\n",
       "<style scoped>\n",
       "    .dataframe tbody tr th:only-of-type {\n",
       "        vertical-align: middle;\n",
       "    }\n",
       "\n",
       "    .dataframe tbody tr th {\n",
       "        vertical-align: top;\n",
       "    }\n",
       "\n",
       "    .dataframe thead th {\n",
       "        text-align: right;\n",
       "    }\n",
       "</style>\n",
       "<table border=\"1\" class=\"dataframe\">\n",
       "  <thead>\n",
       "    <tr style=\"text-align: right;\">\n",
       "      <th></th>\n",
       "      <th>Company</th>\n",
       "      <th>Location_HQ</th>\n",
       "      <th>Industry</th>\n",
       "      <th>Laid_Off_Count</th>\n",
       "      <th>Percentage</th>\n",
       "      <th>Date</th>\n",
       "      <th>Source</th>\n",
       "      <th>Funds_Raised</th>\n",
       "      <th>Stage</th>\n",
       "      <th>Date_Added</th>\n",
       "      <th>Country</th>\n",
       "      <th>List_of_Employees_Laid_Off</th>\n",
       "    </tr>\n",
       "  </thead>\n",
       "  <tbody>\n",
       "    <tr>\n",
       "      <th>0</th>\n",
       "      <td>True Anomaly</td>\n",
       "      <td>Denver</td>\n",
       "      <td>Aerospace</td>\n",
       "      <td>30.0</td>\n",
       "      <td>0.25</td>\n",
       "      <td>2024-04-25T00:00:00.000Z</td>\n",
       "      <td>https://techcrunch.com/2024/04/25/defense-spac...</td>\n",
       "      <td>158.0</td>\n",
       "      <td>Series B</td>\n",
       "      <td>2024-04-26T15:58:59.000Z</td>\n",
       "      <td>United States</td>\n",
       "      <td>Unknown</td>\n",
       "    </tr>\n",
       "    <tr>\n",
       "      <th>1</th>\n",
       "      <td>Grin</td>\n",
       "      <td>Sacramento</td>\n",
       "      <td>Marketing</td>\n",
       "      <td>NaN</td>\n",
       "      <td>NaN</td>\n",
       "      <td>2024-04-25T00:00:00.000Z</td>\n",
       "      <td>https://www.businessinsider.com/influencer-mar...</td>\n",
       "      <td>145.0</td>\n",
       "      <td>Series B</td>\n",
       "      <td>2024-04-27T00:09:09.000Z</td>\n",
       "      <td>United States</td>\n",
       "      <td>Unknown</td>\n",
       "    </tr>\n",
       "    <tr>\n",
       "      <th>2</th>\n",
       "      <td>Expedia</td>\n",
       "      <td>Austin</td>\n",
       "      <td>Travel</td>\n",
       "      <td>NaN</td>\n",
       "      <td>NaN</td>\n",
       "      <td>2024-04-24T00:00:00.000Z</td>\n",
       "      <td>https://www.bizjournals.com/austin/news/2024/0...</td>\n",
       "      <td>3300.0</td>\n",
       "      <td>Post-IPO</td>\n",
       "      <td>2024-04-25T16:09:19.000Z</td>\n",
       "      <td>United States</td>\n",
       "      <td>Unknown</td>\n",
       "    </tr>\n",
       "    <tr>\n",
       "      <th>3</th>\n",
       "      <td>Freenome</td>\n",
       "      <td>SF Bay Area</td>\n",
       "      <td>Healthcare</td>\n",
       "      <td>100.0</td>\n",
       "      <td>0.20</td>\n",
       "      <td>2024-04-23T00:00:00.000Z</td>\n",
       "      <td>https://www.sfchronicle.com/bayarea/article/te...</td>\n",
       "      <td>1400.0</td>\n",
       "      <td>Series E</td>\n",
       "      <td>2024-04-24T15:01:03.000Z</td>\n",
       "      <td>United States</td>\n",
       "      <td>Unknown</td>\n",
       "    </tr>\n",
       "    <tr>\n",
       "      <th>4</th>\n",
       "      <td>Heureka Group</td>\n",
       "      <td>Prague</td>\n",
       "      <td>Retail</td>\n",
       "      <td>100.0</td>\n",
       "      <td>0.16</td>\n",
       "      <td>2024-04-23T00:00:00.000Z</td>\n",
       "      <td>https://cc.cz/heureka-hromadne-propustila-stov...</td>\n",
       "      <td>NaN</td>\n",
       "      <td>Acquired</td>\n",
       "      <td>2024-04-24T15:06:41.000Z</td>\n",
       "      <td>Czech Republic</td>\n",
       "      <td>Unknown</td>\n",
       "    </tr>\n",
       "  </tbody>\n",
       "</table>\n",
       "</div>"
      ],
      "text/plain": [
       "         Company  Location_HQ    Industry  Laid_Off_Count  Percentage  \\\n",
       "0   True Anomaly       Denver   Aerospace            30.0        0.25   \n",
       "1           Grin   Sacramento   Marketing             NaN         NaN   \n",
       "2        Expedia       Austin      Travel             NaN         NaN   \n",
       "3       Freenome  SF Bay Area  Healthcare           100.0        0.20   \n",
       "4  Heureka Group       Prague      Retail           100.0        0.16   \n",
       "\n",
       "                       Date  \\\n",
       "0  2024-04-25T00:00:00.000Z   \n",
       "1  2024-04-25T00:00:00.000Z   \n",
       "2  2024-04-24T00:00:00.000Z   \n",
       "3  2024-04-23T00:00:00.000Z   \n",
       "4  2024-04-23T00:00:00.000Z   \n",
       "\n",
       "                                              Source  Funds_Raised     Stage  \\\n",
       "0  https://techcrunch.com/2024/04/25/defense-spac...         158.0  Series B   \n",
       "1  https://www.businessinsider.com/influencer-mar...         145.0  Series B   \n",
       "2  https://www.bizjournals.com/austin/news/2024/0...        3300.0  Post-IPO   \n",
       "3  https://www.sfchronicle.com/bayarea/article/te...        1400.0  Series E   \n",
       "4  https://cc.cz/heureka-hromadne-propustila-stov...           NaN  Acquired   \n",
       "\n",
       "                 Date_Added         Country List_of_Employees_Laid_Off  \n",
       "0  2024-04-26T15:58:59.000Z   United States                    Unknown  \n",
       "1  2024-04-27T00:09:09.000Z   United States                    Unknown  \n",
       "2  2024-04-25T16:09:19.000Z   United States                    Unknown  \n",
       "3  2024-04-24T15:01:03.000Z   United States                    Unknown  \n",
       "4  2024-04-24T15:06:41.000Z  Czech Republic                    Unknown  "
      ]
     },
     "execution_count": 3,
     "metadata": {},
     "output_type": "execute_result"
    }
   ],
   "source": [
    "#first five rows of dataset\n",
    "df.head()"
   ]
  },
  {
   "cell_type": "code",
   "execution_count": 4,
   "id": "d66eec5a",
   "metadata": {},
   "outputs": [
    {
     "data": {
      "text/html": [
       "<div>\n",
       "<style scoped>\n",
       "    .dataframe tbody tr th:only-of-type {\n",
       "        vertical-align: middle;\n",
       "    }\n",
       "\n",
       "    .dataframe tbody tr th {\n",
       "        vertical-align: top;\n",
       "    }\n",
       "\n",
       "    .dataframe thead th {\n",
       "        text-align: right;\n",
       "    }\n",
       "</style>\n",
       "<table border=\"1\" class=\"dataframe\">\n",
       "  <thead>\n",
       "    <tr style=\"text-align: right;\">\n",
       "      <th></th>\n",
       "      <th>Company</th>\n",
       "      <th>Location_HQ</th>\n",
       "      <th>Industry</th>\n",
       "      <th>Laid_Off_Count</th>\n",
       "      <th>Percentage</th>\n",
       "      <th>Date</th>\n",
       "      <th>Source</th>\n",
       "      <th>Funds_Raised</th>\n",
       "      <th>Stage</th>\n",
       "      <th>Date_Added</th>\n",
       "      <th>Country</th>\n",
       "      <th>List_of_Employees_Laid_Off</th>\n",
       "    </tr>\n",
       "  </thead>\n",
       "  <tbody>\n",
       "    <tr>\n",
       "      <th>3572</th>\n",
       "      <td>Service</td>\n",
       "      <td>Los Angeles</td>\n",
       "      <td>Travel</td>\n",
       "      <td>NaN</td>\n",
       "      <td>1.00</td>\n",
       "      <td>2020-03-16T00:00:00.000Z</td>\n",
       "      <td>https://techcrunch.com/2020/03/16/travel-savin...</td>\n",
       "      <td>5.1</td>\n",
       "      <td>Seed</td>\n",
       "      <td>2020-08-31T15:17:26.000Z</td>\n",
       "      <td>United States</td>\n",
       "      <td>Unknown</td>\n",
       "    </tr>\n",
       "    <tr>\n",
       "      <th>3573</th>\n",
       "      <td>HopSkipDrive</td>\n",
       "      <td>Los Angeles</td>\n",
       "      <td>Transportation</td>\n",
       "      <td>8.0</td>\n",
       "      <td>0.10</td>\n",
       "      <td>2020-03-13T00:00:00.000Z</td>\n",
       "      <td>https://layoffs.fyi/2020/04/02/hopskipdrive-la...</td>\n",
       "      <td>45.0</td>\n",
       "      <td>Unknown</td>\n",
       "      <td>2020-04-03T04:47:03.000Z</td>\n",
       "      <td>United States</td>\n",
       "      <td>Unknown</td>\n",
       "    </tr>\n",
       "    <tr>\n",
       "      <th>3574</th>\n",
       "      <td>Panda Squad</td>\n",
       "      <td>SF Bay Area</td>\n",
       "      <td>Consumer</td>\n",
       "      <td>6.0</td>\n",
       "      <td>0.75</td>\n",
       "      <td>2020-03-13T00:00:00.000Z</td>\n",
       "      <td>https://twitter.com/danielsinger/status/123854...</td>\n",
       "      <td>1.0</td>\n",
       "      <td>Seed</td>\n",
       "      <td>2020-04-17T00:12:49.000Z</td>\n",
       "      <td>United States</td>\n",
       "      <td>Unknown</td>\n",
       "    </tr>\n",
       "    <tr>\n",
       "      <th>3575</th>\n",
       "      <td>Tamara Mellon</td>\n",
       "      <td>Los Angeles</td>\n",
       "      <td>Retail</td>\n",
       "      <td>20.0</td>\n",
       "      <td>0.40</td>\n",
       "      <td>2020-03-12T00:00:00.000Z</td>\n",
       "      <td>https://layoffs.fyi/list/tamara-mellon/</td>\n",
       "      <td>90.0</td>\n",
       "      <td>Series C</td>\n",
       "      <td>2020-03-31T16:04:23.000Z</td>\n",
       "      <td>United States</td>\n",
       "      <td>Unknown</td>\n",
       "    </tr>\n",
       "    <tr>\n",
       "      <th>3576</th>\n",
       "      <td>EasyPost</td>\n",
       "      <td>Salt Lake City</td>\n",
       "      <td>Logistics</td>\n",
       "      <td>75.0</td>\n",
       "      <td>NaN</td>\n",
       "      <td>2020-03-11T00:00:00.000Z</td>\n",
       "      <td>https://www.bizjournals.com/louisville/news/20...</td>\n",
       "      <td>12.0</td>\n",
       "      <td>Series A</td>\n",
       "      <td>2020-03-31T13:21:54.000Z</td>\n",
       "      <td>United States</td>\n",
       "      <td>Unknown</td>\n",
       "    </tr>\n",
       "  </tbody>\n",
       "</table>\n",
       "</div>"
      ],
      "text/plain": [
       "            Company     Location_HQ        Industry  Laid_Off_Count  \\\n",
       "3572        Service     Los Angeles          Travel             NaN   \n",
       "3573   HopSkipDrive     Los Angeles  Transportation             8.0   \n",
       "3574    Panda Squad     SF Bay Area        Consumer             6.0   \n",
       "3575  Tamara Mellon     Los Angeles          Retail            20.0   \n",
       "3576       EasyPost  Salt Lake City       Logistics            75.0   \n",
       "\n",
       "      Percentage                      Date  \\\n",
       "3572        1.00  2020-03-16T00:00:00.000Z   \n",
       "3573        0.10  2020-03-13T00:00:00.000Z   \n",
       "3574        0.75  2020-03-13T00:00:00.000Z   \n",
       "3575        0.40  2020-03-12T00:00:00.000Z   \n",
       "3576         NaN  2020-03-11T00:00:00.000Z   \n",
       "\n",
       "                                                 Source  Funds_Raised  \\\n",
       "3572  https://techcrunch.com/2020/03/16/travel-savin...           5.1   \n",
       "3573  https://layoffs.fyi/2020/04/02/hopskipdrive-la...          45.0   \n",
       "3574  https://twitter.com/danielsinger/status/123854...           1.0   \n",
       "3575            https://layoffs.fyi/list/tamara-mellon/          90.0   \n",
       "3576  https://www.bizjournals.com/louisville/news/20...          12.0   \n",
       "\n",
       "         Stage                Date_Added        Country  \\\n",
       "3572      Seed  2020-08-31T15:17:26.000Z  United States   \n",
       "3573   Unknown  2020-04-03T04:47:03.000Z  United States   \n",
       "3574      Seed  2020-04-17T00:12:49.000Z  United States   \n",
       "3575  Series C  2020-03-31T16:04:23.000Z  United States   \n",
       "3576  Series A  2020-03-31T13:21:54.000Z  United States   \n",
       "\n",
       "     List_of_Employees_Laid_Off  \n",
       "3572                    Unknown  \n",
       "3573                    Unknown  \n",
       "3574                    Unknown  \n",
       "3575                    Unknown  \n",
       "3576                    Unknown  "
      ]
     },
     "execution_count": 4,
     "metadata": {},
     "output_type": "execute_result"
    }
   ],
   "source": [
    "#last five rows of dataset\n",
    "df.tail()"
   ]
  },
  {
   "cell_type": "code",
   "execution_count": 5,
   "id": "61111c7a",
   "metadata": {},
   "outputs": [
    {
     "data": {
      "text/plain": [
       "(3577, 12)"
      ]
     },
     "execution_count": 5,
     "metadata": {},
     "output_type": "execute_result"
    }
   ],
   "source": [
    "#rows and columns\n",
    "df.shape"
   ]
  },
  {
   "cell_type": "code",
   "execution_count": 6,
   "id": "cb6e1a18",
   "metadata": {},
   "outputs": [
    {
     "data": {
      "text/html": [
       "<div>\n",
       "<style scoped>\n",
       "    .dataframe tbody tr th:only-of-type {\n",
       "        vertical-align: middle;\n",
       "    }\n",
       "\n",
       "    .dataframe tbody tr th {\n",
       "        vertical-align: top;\n",
       "    }\n",
       "\n",
       "    .dataframe thead th {\n",
       "        text-align: right;\n",
       "    }\n",
       "</style>\n",
       "<table border=\"1\" class=\"dataframe\">\n",
       "  <thead>\n",
       "    <tr style=\"text-align: right;\">\n",
       "      <th></th>\n",
       "      <th>Laid_Off_Count</th>\n",
       "      <th>Percentage</th>\n",
       "      <th>Funds_Raised</th>\n",
       "    </tr>\n",
       "  </thead>\n",
       "  <tbody>\n",
       "    <tr>\n",
       "      <th>count</th>\n",
       "      <td>2342.000000</td>\n",
       "      <td>2300.000000</td>\n",
       "      <td>3194.000000</td>\n",
       "    </tr>\n",
       "    <tr>\n",
       "      <th>mean</th>\n",
       "      <td>256.358668</td>\n",
       "      <td>0.279316</td>\n",
       "      <td>787.410769</td>\n",
       "    </tr>\n",
       "    <tr>\n",
       "      <th>std</th>\n",
       "      <td>831.078385</td>\n",
       "      <td>0.285825</td>\n",
       "      <td>4779.321300</td>\n",
       "    </tr>\n",
       "    <tr>\n",
       "      <th>min</th>\n",
       "      <td>3.000000</td>\n",
       "      <td>0.000000</td>\n",
       "      <td>0.000000</td>\n",
       "    </tr>\n",
       "    <tr>\n",
       "      <th>25%</th>\n",
       "      <td>40.000000</td>\n",
       "      <td>0.100000</td>\n",
       "      <td>51.250000</td>\n",
       "    </tr>\n",
       "    <tr>\n",
       "      <th>50%</th>\n",
       "      <td>80.000000</td>\n",
       "      <td>0.170000</td>\n",
       "      <td>165.000000</td>\n",
       "    </tr>\n",
       "    <tr>\n",
       "      <th>75%</th>\n",
       "      <td>180.750000</td>\n",
       "      <td>0.300000</td>\n",
       "      <td>463.750000</td>\n",
       "    </tr>\n",
       "    <tr>\n",
       "      <th>max</th>\n",
       "      <td>14000.000000</td>\n",
       "      <td>1.000000</td>\n",
       "      <td>121900.000000</td>\n",
       "    </tr>\n",
       "  </tbody>\n",
       "</table>\n",
       "</div>"
      ],
      "text/plain": [
       "       Laid_Off_Count   Percentage   Funds_Raised\n",
       "count     2342.000000  2300.000000    3194.000000\n",
       "mean       256.358668     0.279316     787.410769\n",
       "std        831.078385     0.285825    4779.321300\n",
       "min          3.000000     0.000000       0.000000\n",
       "25%         40.000000     0.100000      51.250000\n",
       "50%         80.000000     0.170000     165.000000\n",
       "75%        180.750000     0.300000     463.750000\n",
       "max      14000.000000     1.000000  121900.000000"
      ]
     },
     "execution_count": 6,
     "metadata": {},
     "output_type": "execute_result"
    }
   ],
   "source": [
    "df.describe()"
   ]
  },
  {
   "cell_type": "markdown",
   "id": "bccd1a7e",
   "metadata": {},
   "source": [
    "Count: The number of non-null values in each column.\n",
    "\n",
    "Mean: The average value of each column.\n",
    "\n",
    "Std: The standard deviation, which measures the dispersion of values around the mean.\n",
    "\n",
    "Min: The minimum value in each column.\n",
    "\n",
    "25%: The 25th percentile, also known as the first quartile.\n",
    "\n",
    "50%: The median, which represents the 50th percentile or the middle value.\n",
    "\n",
    "75%: The 75th percentile, also known as the third quartile.\n",
    "\n",
    "Max: The maximum value in each column."
   ]
  },
  {
   "cell_type": "markdown",
   "id": "50b3ad98",
   "metadata": {},
   "source": [
    "# Cleaning the data"
   ]
  },
  {
   "cell_type": "code",
   "execution_count": 7,
   "id": "2221ef4c",
   "metadata": {},
   "outputs": [
    {
     "name": "stdout",
     "output_type": "stream",
     "text": [
      "<class 'pandas.core.frame.DataFrame'>\n",
      "RangeIndex: 3577 entries, 0 to 3576\n",
      "Data columns (total 12 columns):\n",
      " #   Column                      Non-Null Count  Dtype  \n",
      "---  ------                      --------------  -----  \n",
      " 0   Company                     3577 non-null   object \n",
      " 1   Location_HQ                 3577 non-null   object \n",
      " 2   Industry                    3577 non-null   object \n",
      " 3   Laid_Off_Count              2342 non-null   float64\n",
      " 4   Percentage                  2300 non-null   float64\n",
      " 5   Date                        3577 non-null   object \n",
      " 6   Source                      3577 non-null   object \n",
      " 7   Funds_Raised                3194 non-null   float64\n",
      " 8   Stage                       3577 non-null   object \n",
      " 9   Date_Added                  3577 non-null   object \n",
      " 10  Country                     3577 non-null   object \n",
      " 11  List_of_Employees_Laid_Off  3577 non-null   object \n",
      "dtypes: float64(3), object(9)\n",
      "memory usage: 335.5+ KB\n"
     ]
    }
   ],
   "source": [
    "df.info()"
   ]
  },
  {
   "cell_type": "code",
   "execution_count": 8,
   "id": "46f179ca",
   "metadata": {},
   "outputs": [
    {
     "data": {
      "text/plain": [
       "0"
      ]
     },
     "execution_count": 8,
     "metadata": {},
     "output_type": "execute_result"
    }
   ],
   "source": [
    "df.duplicated().sum()"
   ]
  },
  {
   "cell_type": "markdown",
   "id": "aab3fec4",
   "metadata": {},
   "source": [
    "there is no duplicated values "
   ]
  },
  {
   "cell_type": "code",
   "execution_count": 9,
   "id": "0983797b",
   "metadata": {},
   "outputs": [
    {
     "data": {
      "text/plain": [
       "Company                          0\n",
       "Location_HQ                      0\n",
       "Industry                         0\n",
       "Laid_Off_Count                1235\n",
       "Percentage                    1277\n",
       "Date                             0\n",
       "Source                           0\n",
       "Funds_Raised                   383\n",
       "Stage                            0\n",
       "Date_Added                       0\n",
       "Country                          0\n",
       "List_of_Employees_Laid_Off       0\n",
       "dtype: int64"
      ]
     },
     "execution_count": 9,
     "metadata": {},
     "output_type": "execute_result"
    }
   ],
   "source": [
    "#checking null values\n",
    "df.isnull().sum()"
   ]
  },
  {
   "cell_type": "code",
   "execution_count": 10,
   "id": "e634fc08",
   "metadata": {},
   "outputs": [
    {
     "data": {
      "text/plain": [
       "<Axes: >"
      ]
     },
     "execution_count": 10,
     "metadata": {},
     "output_type": "execute_result"
    },
    {
     "data": {
      "image/png": "[encoded data removed]",
      "text/plain": [
       "<Figure size 640x480 with 2 Axes>"
      ]
     },
     "metadata": {},
     "output_type": "display_data"
    }
   ],
   "source": [
    "#visualizing null values\n",
    "sns.heatmap(df.isnull())"
   ]
  },
  {
   "cell_type": "code",
   "execution_count": 11,
   "id": "9e3b8a85",
   "metadata": {},
   "outputs": [
    {
     "name": "stdout",
     "output_type": "stream",
     "text": [
      "Company                        0.000000\n",
      "Location_HQ                    0.000000\n",
      "Industry                       0.000000\n",
      "Laid_Off_Count                34.526139\n",
      "Percentage                    35.700308\n",
      "Date                           0.000000\n",
      "Source                         0.000000\n",
      "Funds_Raised                  10.707297\n",
      "Stage                          0.000000\n",
      "Date_Added                     0.000000\n",
      "Country                        0.000000\n",
      "List_of_Employees_Laid_Off     0.000000\n",
      "dtype: float64\n"
     ]
    }
   ],
   "source": [
    "# Calculate the percentage of null values in each column\n",
    "null_percentage = df.isnull().mean() * 100\n",
    "\n",
    "# Display the percentage of null values for each column\n",
    "print(null_percentage)"
   ]
  },
  {
   "cell_type": "markdown",
   "id": "a4c4e27f",
   "metadata": {},
   "source": [
    "In the dataset, there are three key variables that demand attention due to the presence of null values: \"laid_off_count\" ,\"percentage,\" and \"funds_raised\". Of these, \"laid_off_count\" and \"percentage\" exhibit null values exceeding 20% of the total data points. Given the substantial proportion of missing data in these variables, it is prudent to remove them from the analysis to ensure the reliability of the results.\n",
    "\n",
    "The column \"funds_raised\" has about 10% missing values. Normally, when we have missing data, we might fill in those gaps with the average or middle value from the rest of the data. However, with \"funds_raised,\" this might not be a good idea. Why? Because how much money a company raises can vary a lot, and it's influenced by many things.\n",
    "\n",
    "If we just fill in the missing values with an average or middle value, it could make it seem like all the companies raised about the same amount of money, which might not be true. So, to keep our data accurate and avoid making wrong conclusions, we're leaving the missing values in \"funds_raised\" as they are. We're still going to use the rest of the data for our analysis, but we'll be careful not to make assumptions about the missing values in \"funds_raised.\" or maybe just fill them with 0.\n"
   ]
  },
  {
   "cell_type": "code",
   "execution_count": 12,
   "id": "df8e5002",
   "metadata": {},
   "outputs": [
    {
     "data": {
      "text/html": [
       "<div>\n",
       "<style scoped>\n",
       "    .dataframe tbody tr th:only-of-type {\n",
       "        vertical-align: middle;\n",
       "    }\n",
       "\n",
       "    .dataframe tbody tr th {\n",
       "        vertical-align: top;\n",
       "    }\n",
       "\n",
       "    .dataframe thead th {\n",
       "        text-align: right;\n",
       "    }\n",
       "</style>\n",
       "<table border=\"1\" class=\"dataframe\">\n",
       "  <thead>\n",
       "    <tr style=\"text-align: right;\">\n",
       "      <th></th>\n",
       "      <th>Company</th>\n",
       "      <th>Location_HQ</th>\n",
       "      <th>Industry</th>\n",
       "      <th>Laid_Off_Count</th>\n",
       "      <th>Percentage</th>\n",
       "      <th>Date</th>\n",
       "      <th>Source</th>\n",
       "      <th>Funds_Raised</th>\n",
       "      <th>Stage</th>\n",
       "      <th>Date_Added</th>\n",
       "      <th>Country</th>\n",
       "      <th>List_of_Employees_Laid_Off</th>\n",
       "    </tr>\n",
       "  </thead>\n",
       "  <tbody>\n",
       "    <tr>\n",
       "      <th>0</th>\n",
       "      <td>True Anomaly</td>\n",
       "      <td>Denver</td>\n",
       "      <td>Aerospace</td>\n",
       "      <td>30.0</td>\n",
       "      <td>0.25</td>\n",
       "      <td>2024-04-25T00:00:00.000Z</td>\n",
       "      <td>https://techcrunch.com/2024/04/25/defense-spac...</td>\n",
       "      <td>158.0</td>\n",
       "      <td>Series B</td>\n",
       "      <td>2024-04-26T15:58:59.000Z</td>\n",
       "      <td>United States</td>\n",
       "      <td>Unknown</td>\n",
       "    </tr>\n",
       "    <tr>\n",
       "      <th>3</th>\n",
       "      <td>Freenome</td>\n",
       "      <td>SF Bay Area</td>\n",
       "      <td>Healthcare</td>\n",
       "      <td>100.0</td>\n",
       "      <td>0.20</td>\n",
       "      <td>2024-04-23T00:00:00.000Z</td>\n",
       "      <td>https://www.sfchronicle.com/bayarea/article/te...</td>\n",
       "      <td>1400.0</td>\n",
       "      <td>Series E</td>\n",
       "      <td>2024-04-24T15:01:03.000Z</td>\n",
       "      <td>United States</td>\n",
       "      <td>Unknown</td>\n",
       "    </tr>\n",
       "    <tr>\n",
       "      <th>4</th>\n",
       "      <td>Heureka Group</td>\n",
       "      <td>Prague</td>\n",
       "      <td>Retail</td>\n",
       "      <td>100.0</td>\n",
       "      <td>0.16</td>\n",
       "      <td>2024-04-23T00:00:00.000Z</td>\n",
       "      <td>https://cc.cz/heureka-hromadne-propustila-stov...</td>\n",
       "      <td>NaN</td>\n",
       "      <td>Acquired</td>\n",
       "      <td>2024-04-24T15:06:41.000Z</td>\n",
       "      <td>Czech Republic</td>\n",
       "      <td>Unknown</td>\n",
       "    </tr>\n",
       "    <tr>\n",
       "      <th>7</th>\n",
       "      <td>The Good Glamm Group</td>\n",
       "      <td>New Delhi</td>\n",
       "      <td>Retail</td>\n",
       "      <td>150.0</td>\n",
       "      <td>0.15</td>\n",
       "      <td>2024-04-18T00:00:00.000Z</td>\n",
       "      <td>https://economictimes.indiatimes.com/tech/tech...</td>\n",
       "      <td>180.0</td>\n",
       "      <td>Unknown</td>\n",
       "      <td>2024-04-18T23:24:51.000Z</td>\n",
       "      <td>India</td>\n",
       "      <td>Unknown</td>\n",
       "    </tr>\n",
       "    <tr>\n",
       "      <th>8</th>\n",
       "      <td>Showpad</td>\n",
       "      <td>Ghent</td>\n",
       "      <td>Marketing</td>\n",
       "      <td>50.0</td>\n",
       "      <td>0.10</td>\n",
       "      <td>2024-04-18T00:00:00.000Z</td>\n",
       "      <td>https://www.tijd.be/ondernemen/technologie/tec...</td>\n",
       "      <td>159.0</td>\n",
       "      <td>Series D</td>\n",
       "      <td>2024-04-24T15:04:26.000Z</td>\n",
       "      <td>Belgium</td>\n",
       "      <td>Unknown</td>\n",
       "    </tr>\n",
       "    <tr>\n",
       "      <th>...</th>\n",
       "      <td>...</td>\n",
       "      <td>...</td>\n",
       "      <td>...</td>\n",
       "      <td>...</td>\n",
       "      <td>...</td>\n",
       "      <td>...</td>\n",
       "      <td>...</td>\n",
       "      <td>...</td>\n",
       "      <td>...</td>\n",
       "      <td>...</td>\n",
       "      <td>...</td>\n",
       "      <td>...</td>\n",
       "    </tr>\n",
       "    <tr>\n",
       "      <th>3570</th>\n",
       "      <td>Inspirato</td>\n",
       "      <td>Denver</td>\n",
       "      <td>Travel</td>\n",
       "      <td>130.0</td>\n",
       "      <td>0.22</td>\n",
       "      <td>2020-03-16T00:00:00.000Z</td>\n",
       "      <td>https://businessden.com/2020/03/16/inspirato-c...</td>\n",
       "      <td>79.0</td>\n",
       "      <td>Series C</td>\n",
       "      <td>2020-03-31T14:45:56.000Z</td>\n",
       "      <td>United States</td>\n",
       "      <td>Unknown</td>\n",
       "    </tr>\n",
       "    <tr>\n",
       "      <th>3571</th>\n",
       "      <td>Help.com</td>\n",
       "      <td>Austin</td>\n",
       "      <td>Support</td>\n",
       "      <td>16.0</td>\n",
       "      <td>1.00</td>\n",
       "      <td>2020-03-16T00:00:00.000Z</td>\n",
       "      <td>LinkedIn</td>\n",
       "      <td>6.0</td>\n",
       "      <td>Seed</td>\n",
       "      <td>2020-04-16T06:36:06.000Z</td>\n",
       "      <td>United States</td>\n",
       "      <td>Unknown</td>\n",
       "    </tr>\n",
       "    <tr>\n",
       "      <th>3573</th>\n",
       "      <td>HopSkipDrive</td>\n",
       "      <td>Los Angeles</td>\n",
       "      <td>Transportation</td>\n",
       "      <td>8.0</td>\n",
       "      <td>0.10</td>\n",
       "      <td>2020-03-13T00:00:00.000Z</td>\n",
       "      <td>https://layoffs.fyi/2020/04/02/hopskipdrive-la...</td>\n",
       "      <td>45.0</td>\n",
       "      <td>Unknown</td>\n",
       "      <td>2020-04-03T04:47:03.000Z</td>\n",
       "      <td>United States</td>\n",
       "      <td>Unknown</td>\n",
       "    </tr>\n",
       "    <tr>\n",
       "      <th>3574</th>\n",
       "      <td>Panda Squad</td>\n",
       "      <td>SF Bay Area</td>\n",
       "      <td>Consumer</td>\n",
       "      <td>6.0</td>\n",
       "      <td>0.75</td>\n",
       "      <td>2020-03-13T00:00:00.000Z</td>\n",
       "      <td>https://twitter.com/danielsinger/status/123854...</td>\n",
       "      <td>1.0</td>\n",
       "      <td>Seed</td>\n",
       "      <td>2020-04-17T00:12:49.000Z</td>\n",
       "      <td>United States</td>\n",
       "      <td>Unknown</td>\n",
       "    </tr>\n",
       "    <tr>\n",
       "      <th>3575</th>\n",
       "      <td>Tamara Mellon</td>\n",
       "      <td>Los Angeles</td>\n",
       "      <td>Retail</td>\n",
       "      <td>20.0</td>\n",
       "      <td>0.40</td>\n",
       "      <td>2020-03-12T00:00:00.000Z</td>\n",
       "      <td>https://layoffs.fyi/list/tamara-mellon/</td>\n",
       "      <td>90.0</td>\n",
       "      <td>Series C</td>\n",
       "      <td>2020-03-31T16:04:23.000Z</td>\n",
       "      <td>United States</td>\n",
       "      <td>Unknown</td>\n",
       "    </tr>\n",
       "  </tbody>\n",
       "</table>\n",
       "<p>1658 rows × 12 columns</p>\n",
       "</div>"
      ],
      "text/plain": [
       "                   Company  Location_HQ        Industry  Laid_Off_Count  \\\n",
       "0             True Anomaly       Denver       Aerospace            30.0   \n",
       "3                 Freenome  SF Bay Area      Healthcare           100.0   \n",
       "4            Heureka Group       Prague          Retail           100.0   \n",
       "7     The Good Glamm Group    New Delhi          Retail           150.0   \n",
       "8                  Showpad        Ghent       Marketing            50.0   \n",
       "...                    ...          ...             ...             ...   \n",
       "3570             Inspirato       Denver          Travel           130.0   \n",
       "3571              Help.com       Austin         Support            16.0   \n",
       "3573          HopSkipDrive  Los Angeles  Transportation             8.0   \n",
       "3574           Panda Squad  SF Bay Area        Consumer             6.0   \n",
       "3575         Tamara Mellon  Los Angeles          Retail            20.0   \n",
       "\n",
       "      Percentage                      Date  \\\n",
       "0           0.25  2024-04-25T00:00:00.000Z   \n",
       "3           0.20  2024-04-23T00:00:00.000Z   \n",
       "4           0.16  2024-04-23T00:00:00.000Z   \n",
       "7           0.15  2024-04-18T00:00:00.000Z   \n",
       "8           0.10  2024-04-18T00:00:00.000Z   \n",
       "...          ...                       ...   \n",
       "3570        0.22  2020-03-16T00:00:00.000Z   \n",
       "3571        1.00  2020-03-16T00:00:00.000Z   \n",
       "3573        0.10  2020-03-13T00:00:00.000Z   \n",
       "3574        0.75  2020-03-13T00:00:00.000Z   \n",
       "3575        0.40  2020-03-12T00:00:00.000Z   \n",
       "\n",
       "                                                 Source  Funds_Raised  \\\n",
       "0     https://techcrunch.com/2024/04/25/defense-spac...         158.0   \n",
       "3     https://www.sfchronicle.com/bayarea/article/te...        1400.0   \n",
       "4     https://cc.cz/heureka-hromadne-propustila-stov...           NaN   \n",
       "7     https://economictimes.indiatimes.com/tech/tech...         180.0   \n",
       "8     https://www.tijd.be/ondernemen/technologie/tec...         159.0   \n",
       "...                                                 ...           ...   \n",
       "3570  https://businessden.com/2020/03/16/inspirato-c...          79.0   \n",
       "3571                                           LinkedIn           6.0   \n",
       "3573  https://layoffs.fyi/2020/04/02/hopskipdrive-la...          45.0   \n",
       "3574  https://twitter.com/danielsinger/status/123854...           1.0   \n",
       "3575            https://layoffs.fyi/list/tamara-mellon/          90.0   \n",
       "\n",
       "         Stage                Date_Added         Country  \\\n",
       "0     Series B  2024-04-26T15:58:59.000Z   United States   \n",
       "3     Series E  2024-04-24T15:01:03.000Z   United States   \n",
       "4     Acquired  2024-04-24T15:06:41.000Z  Czech Republic   \n",
       "7      Unknown  2024-04-18T23:24:51.000Z           India   \n",
       "8     Series D  2024-04-24T15:04:26.000Z         Belgium   \n",
       "...        ...                       ...             ...   \n",
       "3570  Series C  2020-03-31T14:45:56.000Z   United States   \n",
       "3571      Seed  2020-04-16T06:36:06.000Z   United States   \n",
       "3573   Unknown  2020-04-03T04:47:03.000Z   United States   \n",
       "3574      Seed  2020-04-17T00:12:49.000Z   United States   \n",
       "3575  Series C  2020-03-31T16:04:23.000Z   United States   \n",
       "\n",
       "     List_of_Employees_Laid_Off  \n",
       "0                       Unknown  \n",
       "3                       Unknown  \n",
       "4                       Unknown  \n",
       "7                       Unknown  \n",
       "8                       Unknown  \n",
       "...                         ...  \n",
       "3570                    Unknown  \n",
       "3571                    Unknown  \n",
       "3573                    Unknown  \n",
       "3574                    Unknown  \n",
       "3575                    Unknown  \n",
       "\n",
       "[1658 rows x 12 columns]"
      ]
     },
     "execution_count": 12,
     "metadata": {},
     "output_type": "execute_result"
    }
   ],
   "source": [
    "df.dropna(subset=[\"Laid_Off_Count\", \"Percentage\"], inplace=True)\n",
    "df"
   ]
  },
  {
   "cell_type": "code",
   "execution_count": 13,
   "id": "a79873f7",
   "metadata": {},
   "outputs": [
    {
     "data": {
      "text/plain": [
       "Company                         0\n",
       "Location_HQ                     0\n",
       "Industry                        0\n",
       "Laid_Off_Count                  0\n",
       "Percentage                      0\n",
       "Date                            0\n",
       "Source                          0\n",
       "Funds_Raised                  157\n",
       "Stage                           0\n",
       "Date_Added                      0\n",
       "Country                         0\n",
       "List_of_Employees_Laid_Off      0\n",
       "dtype: int64"
      ]
     },
     "execution_count": 13,
     "metadata": {},
     "output_type": "execute_result"
    }
   ],
   "source": [
    "df.isnull().sum()"
   ]
  },
  {
   "cell_type": "markdown",
   "id": "55a8707d",
   "metadata": {},
   "source": [
    "successfully deleted the null values from two columns."
   ]
  },
  {
   "cell_type": "code",
   "execution_count": 14,
   "id": "39d2fee1",
   "metadata": {},
   "outputs": [],
   "source": [
    "df['Funds_Raised'].fillna(0, inplace=True)"
   ]
  },
  {
   "cell_type": "code",
   "execution_count": 15,
   "id": "0c441390",
   "metadata": {},
   "outputs": [
    {
     "data": {
      "text/plain": [
       "Company                       0\n",
       "Location_HQ                   0\n",
       "Industry                      0\n",
       "Laid_Off_Count                0\n",
       "Percentage                    0\n",
       "Date                          0\n",
       "Source                        0\n",
       "Funds_Raised                  0\n",
       "Stage                         0\n",
       "Date_Added                    0\n",
       "Country                       0\n",
       "List_of_Employees_Laid_Off    0\n",
       "dtype: int64"
      ]
     },
     "execution_count": 15,
     "metadata": {},
     "output_type": "execute_result"
    }
   ],
   "source": [
    "df.isnull().sum()"
   ]
  },
  {
   "cell_type": "markdown",
   "id": "5db8e2d2",
   "metadata": {},
   "source": [
    "Successfully handled the null values "
   ]
  },
  {
   "cell_type": "code",
   "execution_count": 16,
   "id": "d1b82d1b",
   "metadata": {},
   "outputs": [],
   "source": [
    "#Deleting unnecessary columns\n",
    "df.drop(columns=['Date_Added','Source','List_of_Employees_Laid_Off'],inplace=True)\n"
   ]
  },
  {
   "cell_type": "code",
   "execution_count": 17,
   "id": "b9325244",
   "metadata": {},
   "outputs": [
    {
     "data": {
      "text/plain": [
       "Index(['Company', 'Location_HQ', 'Industry', 'Laid_Off_Count', 'Percentage',\n",
       "       'Date', 'Funds_Raised', 'Stage', 'Country'],\n",
       "      dtype='object')"
      ]
     },
     "execution_count": 17,
     "metadata": {},
     "output_type": "execute_result"
    }
   ],
   "source": [
    "df.columns"
   ]
  },
  {
   "cell_type": "code",
   "execution_count": 18,
   "id": "2ebf6c66",
   "metadata": {},
   "outputs": [],
   "source": [
    "#Correcting Columns name \n",
    "col=df.columns\n",
    "for x in col:\n",
    "    df.rename(columns=lambda x: x.strip().lower(),inplace=True)"
   ]
  },
  {
   "cell_type": "code",
   "execution_count": 19,
   "id": "80dd73d8",
   "metadata": {},
   "outputs": [
    {
     "data": {
      "text/plain": [
       "Index(['company', 'location_hq', 'industry', 'laid_off_count', 'percentage',\n",
       "       'date', 'funds_raised', 'stage', 'country'],\n",
       "      dtype='object')"
      ]
     },
     "execution_count": 19,
     "metadata": {},
     "output_type": "execute_result"
    }
   ],
   "source": [
    "df.columns"
   ]
  },
  {
   "cell_type": "code",
   "execution_count": 20,
   "id": "38235173",
   "metadata": {},
   "outputs": [],
   "source": [
    "df.rename(columns={'location_hq':'location'},inplace=True)"
   ]
  },
  {
   "cell_type": "code",
   "execution_count": 21,
   "id": "712c196d",
   "metadata": {},
   "outputs": [
    {
     "data": {
      "text/plain": [
       "array(['United States', 'Czech Republic', 'India', 'Belgium', 'France',\n",
       "       'Denmark', 'Israel', 'Singapore', 'Netherlands', 'Australia',\n",
       "       'United Kingdom', 'Sweden', 'Norway', 'Canada', 'Cayman Islands',\n",
       "       'Germany', 'Brazil', 'Estonia', 'Kenya', 'New Zealand', 'Ireland',\n",
       "       'Nigeria', 'South Korea', 'Chile', 'Saudi Arabia', 'Poland',\n",
       "       'Spain', 'Austria', 'Indonesia', 'China', 'Argentina',\n",
       "       'Luxembourg', 'Thailand', 'Senegal', 'Hong Kong',\n",
       "       'United Arab Emirates', 'Finland', 'Malaysia', 'Mexico', 'Russia',\n",
       "       'Seychelles', 'Bulgaria', 'Switzerland', 'Portugal', 'Myanmar'],\n",
       "      dtype=object)"
      ]
     },
     "execution_count": 21,
     "metadata": {},
     "output_type": "execute_result"
    }
   ],
   "source": [
    "df['country'].unique()"
   ]
  },
  {
   "cell_type": "code",
   "execution_count": 22,
   "id": "4b33b258",
   "metadata": {},
   "outputs": [
    {
     "data": {
      "text/plain": [
       "45"
      ]
     },
     "execution_count": 22,
     "metadata": {},
     "output_type": "execute_result"
    }
   ],
   "source": [
    "df['country'].nunique()"
   ]
  },
  {
   "cell_type": "code",
   "execution_count": 23,
   "id": "87202765",
   "metadata": {},
   "outputs": [
    {
     "data": {
      "text/plain": [
       "16"
      ]
     },
     "execution_count": 23,
     "metadata": {},
     "output_type": "execute_result"
    }
   ],
   "source": [
    "df['stage'].nunique()"
   ]
  },
  {
   "cell_type": "code",
   "execution_count": 24,
   "id": "3e46ad65",
   "metadata": {},
   "outputs": [
    {
     "data": {
      "text/plain": [
       "array(['Series B', 'Series E', 'Acquired', 'Unknown', 'Series D',\n",
       "       'Post-IPO', 'Series C', 'Private Equity', 'Series A', 'Series F',\n",
       "       'Subsidiary', 'Series H', 'Series G', 'Seed', 'Series I',\n",
       "       'Series J'], dtype=object)"
      ]
     },
     "execution_count": 24,
     "metadata": {},
     "output_type": "execute_result"
    }
   ],
   "source": [
    "df['stage'].unique()"
   ]
  },
  {
   "cell_type": "code",
   "execution_count": 25,
   "id": "00f6ed55",
   "metadata": {},
   "outputs": [],
   "source": [
    "df['laid_off_count']=df['laid_off_count'].astype(int)"
   ]
  },
  {
   "cell_type": "code",
   "execution_count": 26,
   "id": "59876cec",
   "metadata": {},
   "outputs": [],
   "source": [
    "df['date'] = pd.to_datetime(df['date'])"
   ]
  },
  {
   "cell_type": "code",
   "execution_count": 27,
   "id": "a024accf",
   "metadata": {},
   "outputs": [
    {
     "name": "stdout",
     "output_type": "stream",
     "text": [
      "datetime64[ns, UTC]\n"
     ]
    }
   ],
   "source": [
    "print(df['date'].dtype)"
   ]
  },
  {
   "cell_type": "code",
   "execution_count": 28,
   "id": "9cc21af9",
   "metadata": {},
   "outputs": [
    {
     "data": {
      "text/html": [
       "<div>\n",
       "<style scoped>\n",
       "    .dataframe tbody tr th:only-of-type {\n",
       "        vertical-align: middle;\n",
       "    }\n",
       "\n",
       "    .dataframe tbody tr th {\n",
       "        vertical-align: top;\n",
       "    }\n",
       "\n",
       "    .dataframe thead th {\n",
       "        text-align: right;\n",
       "    }\n",
       "</style>\n",
       "<table border=\"1\" class=\"dataframe\">\n",
       "  <thead>\n",
       "    <tr style=\"text-align: right;\">\n",
       "      <th></th>\n",
       "      <th>company</th>\n",
       "      <th>location</th>\n",
       "      <th>industry</th>\n",
       "      <th>laid_off_count</th>\n",
       "      <th>percentage</th>\n",
       "      <th>date</th>\n",
       "      <th>funds_raised</th>\n",
       "      <th>stage</th>\n",
       "      <th>country</th>\n",
       "    </tr>\n",
       "  </thead>\n",
       "  <tbody>\n",
       "    <tr>\n",
       "      <th>0</th>\n",
       "      <td>True Anomaly</td>\n",
       "      <td>Denver</td>\n",
       "      <td>Aerospace</td>\n",
       "      <td>30</td>\n",
       "      <td>0.25</td>\n",
       "      <td>2024-04-25 00:00:00+00:00</td>\n",
       "      <td>158.0</td>\n",
       "      <td>Series B</td>\n",
       "      <td>United States</td>\n",
       "    </tr>\n",
       "    <tr>\n",
       "      <th>3</th>\n",
       "      <td>Freenome</td>\n",
       "      <td>SF Bay Area</td>\n",
       "      <td>Healthcare</td>\n",
       "      <td>100</td>\n",
       "      <td>0.20</td>\n",
       "      <td>2024-04-23 00:00:00+00:00</td>\n",
       "      <td>1400.0</td>\n",
       "      <td>Series E</td>\n",
       "      <td>United States</td>\n",
       "    </tr>\n",
       "    <tr>\n",
       "      <th>4</th>\n",
       "      <td>Heureka Group</td>\n",
       "      <td>Prague</td>\n",
       "      <td>Retail</td>\n",
       "      <td>100</td>\n",
       "      <td>0.16</td>\n",
       "      <td>2024-04-23 00:00:00+00:00</td>\n",
       "      <td>0.0</td>\n",
       "      <td>Acquired</td>\n",
       "      <td>Czech Republic</td>\n",
       "    </tr>\n",
       "    <tr>\n",
       "      <th>7</th>\n",
       "      <td>The Good Glamm Group</td>\n",
       "      <td>New Delhi</td>\n",
       "      <td>Retail</td>\n",
       "      <td>150</td>\n",
       "      <td>0.15</td>\n",
       "      <td>2024-04-18 00:00:00+00:00</td>\n",
       "      <td>180.0</td>\n",
       "      <td>Unknown</td>\n",
       "      <td>India</td>\n",
       "    </tr>\n",
       "    <tr>\n",
       "      <th>8</th>\n",
       "      <td>Showpad</td>\n",
       "      <td>Ghent</td>\n",
       "      <td>Marketing</td>\n",
       "      <td>50</td>\n",
       "      <td>0.10</td>\n",
       "      <td>2024-04-18 00:00:00+00:00</td>\n",
       "      <td>159.0</td>\n",
       "      <td>Series D</td>\n",
       "      <td>Belgium</td>\n",
       "    </tr>\n",
       "  </tbody>\n",
       "</table>\n",
       "</div>"
      ],
      "text/plain": [
       "                company     location    industry  laid_off_count  percentage  \\\n",
       "0          True Anomaly       Denver   Aerospace              30        0.25   \n",
       "3              Freenome  SF Bay Area  Healthcare             100        0.20   \n",
       "4         Heureka Group       Prague      Retail             100        0.16   \n",
       "7  The Good Glamm Group    New Delhi      Retail             150        0.15   \n",
       "8               Showpad        Ghent   Marketing              50        0.10   \n",
       "\n",
       "                       date  funds_raised     stage         country  \n",
       "0 2024-04-25 00:00:00+00:00         158.0  Series B   United States  \n",
       "3 2024-04-23 00:00:00+00:00        1400.0  Series E   United States  \n",
       "4 2024-04-23 00:00:00+00:00           0.0  Acquired  Czech Republic  \n",
       "7 2024-04-18 00:00:00+00:00         180.0   Unknown           India  \n",
       "8 2024-04-18 00:00:00+00:00         159.0  Series D         Belgium  "
      ]
     },
     "execution_count": 28,
     "metadata": {},
     "output_type": "execute_result"
    }
   ],
   "source": [
    "df.head()"
   ]
  },
  {
   "cell_type": "code",
   "execution_count": 29,
   "id": "a1aac478",
   "metadata": {},
   "outputs": [],
   "source": [
    "df['date'] = df['date'].dt.tz_localize(None)"
   ]
  },
  {
   "cell_type": "code",
   "execution_count": 30,
   "id": "bd51662e",
   "metadata": {},
   "outputs": [
    {
     "data": {
      "text/html": [
       "<div>\n",
       "<style scoped>\n",
       "    .dataframe tbody tr th:only-of-type {\n",
       "        vertical-align: middle;\n",
       "    }\n",
       "\n",
       "    .dataframe tbody tr th {\n",
       "        vertical-align: top;\n",
       "    }\n",
       "\n",
       "    .dataframe thead th {\n",
       "        text-align: right;\n",
       "    }\n",
       "</style>\n",
       "<table border=\"1\" class=\"dataframe\">\n",
       "  <thead>\n",
       "    <tr style=\"text-align: right;\">\n",
       "      <th></th>\n",
       "      <th>company</th>\n",
       "      <th>location</th>\n",
       "      <th>industry</th>\n",
       "      <th>laid_off_count</th>\n",
       "      <th>percentage</th>\n",
       "      <th>date</th>\n",
       "      <th>funds_raised</th>\n",
       "      <th>stage</th>\n",
       "      <th>country</th>\n",
       "    </tr>\n",
       "  </thead>\n",
       "  <tbody>\n",
       "    <tr>\n",
       "      <th>0</th>\n",
       "      <td>True Anomaly</td>\n",
       "      <td>Denver</td>\n",
       "      <td>Aerospace</td>\n",
       "      <td>30</td>\n",
       "      <td>0.25</td>\n",
       "      <td>2024-04-25</td>\n",
       "      <td>158.0</td>\n",
       "      <td>Series B</td>\n",
       "      <td>United States</td>\n",
       "    </tr>\n",
       "    <tr>\n",
       "      <th>3</th>\n",
       "      <td>Freenome</td>\n",
       "      <td>SF Bay Area</td>\n",
       "      <td>Healthcare</td>\n",
       "      <td>100</td>\n",
       "      <td>0.20</td>\n",
       "      <td>2024-04-23</td>\n",
       "      <td>1400.0</td>\n",
       "      <td>Series E</td>\n",
       "      <td>United States</td>\n",
       "    </tr>\n",
       "    <tr>\n",
       "      <th>4</th>\n",
       "      <td>Heureka Group</td>\n",
       "      <td>Prague</td>\n",
       "      <td>Retail</td>\n",
       "      <td>100</td>\n",
       "      <td>0.16</td>\n",
       "      <td>2024-04-23</td>\n",
       "      <td>0.0</td>\n",
       "      <td>Acquired</td>\n",
       "      <td>Czech Republic</td>\n",
       "    </tr>\n",
       "    <tr>\n",
       "      <th>7</th>\n",
       "      <td>The Good Glamm Group</td>\n",
       "      <td>New Delhi</td>\n",
       "      <td>Retail</td>\n",
       "      <td>150</td>\n",
       "      <td>0.15</td>\n",
       "      <td>2024-04-18</td>\n",
       "      <td>180.0</td>\n",
       "      <td>Unknown</td>\n",
       "      <td>India</td>\n",
       "    </tr>\n",
       "    <tr>\n",
       "      <th>8</th>\n",
       "      <td>Showpad</td>\n",
       "      <td>Ghent</td>\n",
       "      <td>Marketing</td>\n",
       "      <td>50</td>\n",
       "      <td>0.10</td>\n",
       "      <td>2024-04-18</td>\n",
       "      <td>159.0</td>\n",
       "      <td>Series D</td>\n",
       "      <td>Belgium</td>\n",
       "    </tr>\n",
       "  </tbody>\n",
       "</table>\n",
       "</div>"
      ],
      "text/plain": [
       "                company     location    industry  laid_off_count  percentage  \\\n",
       "0          True Anomaly       Denver   Aerospace              30        0.25   \n",
       "3              Freenome  SF Bay Area  Healthcare             100        0.20   \n",
       "4         Heureka Group       Prague      Retail             100        0.16   \n",
       "7  The Good Glamm Group    New Delhi      Retail             150        0.15   \n",
       "8               Showpad        Ghent   Marketing              50        0.10   \n",
       "\n",
       "        date  funds_raised     stage         country  \n",
       "0 2024-04-25         158.0  Series B   United States  \n",
       "3 2024-04-23        1400.0  Series E   United States  \n",
       "4 2024-04-23           0.0  Acquired  Czech Republic  \n",
       "7 2024-04-18         180.0   Unknown           India  \n",
       "8 2024-04-18         159.0  Series D         Belgium  "
      ]
     },
     "execution_count": 30,
     "metadata": {},
     "output_type": "execute_result"
    }
   ],
   "source": [
    "df.head()"
   ]
  },
  {
   "cell_type": "code",
   "execution_count": 31,
   "id": "ae6c0ce6",
   "metadata": {},
   "outputs": [],
   "source": [
    "df['month'] = df['date'].dt.month\n",
    "df['day'] = df['date'].dt.day_name()\n",
    "df['year'] = df['date'].dt.year"
   ]
  },
  {
   "cell_type": "code",
   "execution_count": 32,
   "id": "04e55697",
   "metadata": {},
   "outputs": [
    {
     "data": {
      "text/html": [
       "<div>\n",
       "<style scoped>\n",
       "    .dataframe tbody tr th:only-of-type {\n",
       "        vertical-align: middle;\n",
       "    }\n",
       "\n",
       "    .dataframe tbody tr th {\n",
       "        vertical-align: top;\n",
       "    }\n",
       "\n",
       "    .dataframe thead th {\n",
       "        text-align: right;\n",
       "    }\n",
       "</style>\n",
       "<table border=\"1\" class=\"dataframe\">\n",
       "  <thead>\n",
       "    <tr style=\"text-align: right;\">\n",
       "      <th></th>\n",
       "      <th>company</th>\n",
       "      <th>location</th>\n",
       "      <th>industry</th>\n",
       "      <th>laid_off_count</th>\n",
       "      <th>percentage</th>\n",
       "      <th>date</th>\n",
       "      <th>funds_raised</th>\n",
       "      <th>stage</th>\n",
       "      <th>country</th>\n",
       "      <th>month</th>\n",
       "      <th>day</th>\n",
       "      <th>year</th>\n",
       "    </tr>\n",
       "  </thead>\n",
       "  <tbody>\n",
       "    <tr>\n",
       "      <th>0</th>\n",
       "      <td>True Anomaly</td>\n",
       "      <td>Denver</td>\n",
       "      <td>Aerospace</td>\n",
       "      <td>30</td>\n",
       "      <td>0.25</td>\n",
       "      <td>2024-04-25</td>\n",
       "      <td>158.0</td>\n",
       "      <td>Series B</td>\n",
       "      <td>United States</td>\n",
       "      <td>4</td>\n",
       "      <td>Thursday</td>\n",
       "      <td>2024</td>\n",
       "    </tr>\n",
       "    <tr>\n",
       "      <th>3</th>\n",
       "      <td>Freenome</td>\n",
       "      <td>SF Bay Area</td>\n",
       "      <td>Healthcare</td>\n",
       "      <td>100</td>\n",
       "      <td>0.20</td>\n",
       "      <td>2024-04-23</td>\n",
       "      <td>1400.0</td>\n",
       "      <td>Series E</td>\n",
       "      <td>United States</td>\n",
       "      <td>4</td>\n",
       "      <td>Tuesday</td>\n",
       "      <td>2024</td>\n",
       "    </tr>\n",
       "    <tr>\n",
       "      <th>4</th>\n",
       "      <td>Heureka Group</td>\n",
       "      <td>Prague</td>\n",
       "      <td>Retail</td>\n",
       "      <td>100</td>\n",
       "      <td>0.16</td>\n",
       "      <td>2024-04-23</td>\n",
       "      <td>0.0</td>\n",
       "      <td>Acquired</td>\n",
       "      <td>Czech Republic</td>\n",
       "      <td>4</td>\n",
       "      <td>Tuesday</td>\n",
       "      <td>2024</td>\n",
       "    </tr>\n",
       "    <tr>\n",
       "      <th>7</th>\n",
       "      <td>The Good Glamm Group</td>\n",
       "      <td>New Delhi</td>\n",
       "      <td>Retail</td>\n",
       "      <td>150</td>\n",
       "      <td>0.15</td>\n",
       "      <td>2024-04-18</td>\n",
       "      <td>180.0</td>\n",
       "      <td>Unknown</td>\n",
       "      <td>India</td>\n",
       "      <td>4</td>\n",
       "      <td>Thursday</td>\n",
       "      <td>2024</td>\n",
       "    </tr>\n",
       "    <tr>\n",
       "      <th>8</th>\n",
       "      <td>Showpad</td>\n",
       "      <td>Ghent</td>\n",
       "      <td>Marketing</td>\n",
       "      <td>50</td>\n",
       "      <td>0.10</td>\n",
       "      <td>2024-04-18</td>\n",
       "      <td>159.0</td>\n",
       "      <td>Series D</td>\n",
       "      <td>Belgium</td>\n",
       "      <td>4</td>\n",
       "      <td>Thursday</td>\n",
       "      <td>2024</td>\n",
       "    </tr>\n",
       "  </tbody>\n",
       "</table>\n",
       "</div>"
      ],
      "text/plain": [
       "                company     location    industry  laid_off_count  percentage  \\\n",
       "0          True Anomaly       Denver   Aerospace              30        0.25   \n",
       "3              Freenome  SF Bay Area  Healthcare             100        0.20   \n",
       "4         Heureka Group       Prague      Retail             100        0.16   \n",
       "7  The Good Glamm Group    New Delhi      Retail             150        0.15   \n",
       "8               Showpad        Ghent   Marketing              50        0.10   \n",
       "\n",
       "        date  funds_raised     stage         country  month       day  year  \n",
       "0 2024-04-25         158.0  Series B   United States      4  Thursday  2024  \n",
       "3 2024-04-23        1400.0  Series E   United States      4   Tuesday  2024  \n",
       "4 2024-04-23           0.0  Acquired  Czech Republic      4   Tuesday  2024  \n",
       "7 2024-04-18         180.0   Unknown           India      4  Thursday  2024  \n",
       "8 2024-04-18         159.0  Series D         Belgium      4  Thursday  2024  "
      ]
     },
     "execution_count": 32,
     "metadata": {},
     "output_type": "execute_result"
    }
   ],
   "source": [
    "df.head()"
   ]
  },
  {
   "cell_type": "code",
   "execution_count": 33,
   "id": "44cc9125",
   "metadata": {},
   "outputs": [
    {
     "data": {
      "text/plain": [
       "array([2024, 2023, 2022, 2021, 2020])"
      ]
     },
     "execution_count": 33,
     "metadata": {},
     "output_type": "execute_result"
    }
   ],
   "source": [
    "df['year'].unique()"
   ]
  },
  {
   "cell_type": "code",
   "execution_count": 34,
   "id": "1c59d410",
   "metadata": {},
   "outputs": [
    {
     "data": {
      "text/plain": [
       "array([ 4,  3,  2,  1, 12, 11, 10,  9,  8,  7,  6,  5])"
      ]
     },
     "execution_count": 34,
     "metadata": {},
     "output_type": "execute_result"
    }
   ],
   "source": [
    "df['month'].unique()"
   ]
  },
  {
   "cell_type": "markdown",
   "id": "a8af5946",
   "metadata": {},
   "source": [
    "# Exploratory Data Analysis"
   ]
  },
  {
   "cell_type": "markdown",
   "id": "2711563d",
   "metadata": {},
   "source": [
    "## Q1.Layoffs done in each year?"
   ]
  },
  {
   "cell_type": "code",
   "execution_count": 35,
   "id": "fb95ce90",
   "metadata": {},
   "outputs": [
    {
     "data": {
      "text/plain": [
       "year\n",
       "2020     70621\n",
       "2021      6503\n",
       "2022    139920\n",
       "2023    197498\n",
       "2024     65882\n",
       "Name: laid_off_count, dtype: int32"
      ]
     },
     "execution_count": 35,
     "metadata": {},
     "output_type": "execute_result"
    }
   ],
   "source": [
    "#how many layoffs are done in each year \n",
    "df.groupby('year')['laid_off_count'].sum()"
   ]
  },
  {
   "cell_type": "code",
   "execution_count": 36,
   "id": "0e2243d0",
   "metadata": {},
   "outputs": [
    {
     "data": {
      "image/png": "[encoded data removed]",
      "text/plain": [
       "<Figure size 640x480 with 1 Axes>"
      ]
     },
     "metadata": {},
     "output_type": "display_data"
    }
   ],
   "source": [
    "df.groupby('year')['laid_off_count'].sum().plot(kind='bar')\n",
    "plt.ylabel('Number of Layoffs')\n",
    "plt.title('Number of Layoffs over Years',size=13)\n",
    "plt.show()\n"
   ]
  },
  {
   "cell_type": "markdown",
   "id": "84c907f6",
   "metadata": {},
   "source": [
    "As per the graph ,most of the layoffs were in 2023 and 2022. This maybe due to the overhiring during covid-19 pandemic.Now we cant say much about 2024 because the data is available till april month but as you can see from jan to april the layoffs are still high."
   ]
  },
  {
   "cell_type": "markdown",
   "id": "3e43b6b5",
   "metadata": {},
   "source": [
    "## Q2. What are the top 5 companies that experienced layoffs during the years 2020, 2021, 2022, 2023, and 2024?"
   ]
  },
  {
   "cell_type": "code",
   "execution_count": 37,
   "id": "b5e463b7",
   "metadata": {},
   "outputs": [],
   "source": [
    "df0 = df.set_index('date')\n",
    "df_2024 = df.loc[:'2024']\n",
    "df_2023 = df.loc[(df0.index > '2023-01-01')&(df0.index < '2024-01-01')]\n",
    "df_2022 = df.loc[(df0.index > '2022-01-01')&(df0.index < '2023-01-01')]\n",
    "df_2021 = df.loc[(df0.index > '2021-01-01')&(df0.index < '2022-01-01')]\n",
    "df_2020 = df.loc[(df0.index > '2020-01-01')&(df0.index < '2021-01-01')]"
   ]
  },
  {
   "cell_type": "code",
   "execution_count": 38,
   "id": "d6618c9e",
   "metadata": {},
   "outputs": [
    {
     "data": {
      "text/html": [
       "<div>\n",
       "<style scoped>\n",
       "    .dataframe tbody tr th:only-of-type {\n",
       "        vertical-align: middle;\n",
       "    }\n",
       "\n",
       "    .dataframe tbody tr th {\n",
       "        vertical-align: top;\n",
       "    }\n",
       "\n",
       "    .dataframe thead th {\n",
       "        text-align: right;\n",
       "    }\n",
       "</style>\n",
       "<table border=\"1\" class=\"dataframe\">\n",
       "  <thead>\n",
       "    <tr style=\"text-align: right;\">\n",
       "      <th></th>\n",
       "      <th>company</th>\n",
       "      <th>location</th>\n",
       "      <th>industry</th>\n",
       "      <th>laid_off_count</th>\n",
       "      <th>percentage</th>\n",
       "      <th>date</th>\n",
       "      <th>funds_raised</th>\n",
       "      <th>stage</th>\n",
       "      <th>country</th>\n",
       "      <th>month</th>\n",
       "      <th>day</th>\n",
       "      <th>year</th>\n",
       "    </tr>\n",
       "  </thead>\n",
       "  <tbody>\n",
       "    <tr>\n",
       "      <th>16</th>\n",
       "      <td>Tesla</td>\n",
       "      <td>Austin</td>\n",
       "      <td>Transportation</td>\n",
       "      <td>14000</td>\n",
       "      <td>0.10</td>\n",
       "      <td>2024-04-15</td>\n",
       "      <td>20200.0</td>\n",
       "      <td>Post-IPO</td>\n",
       "      <td>United States</td>\n",
       "      <td>4</td>\n",
       "      <td>Monday</td>\n",
       "      <td>2024</td>\n",
       "    </tr>\n",
       "    <tr>\n",
       "      <th>1478</th>\n",
       "      <td>Google</td>\n",
       "      <td>SF Bay Area</td>\n",
       "      <td>Consumer</td>\n",
       "      <td>12000</td>\n",
       "      <td>0.06</td>\n",
       "      <td>2023-01-20</td>\n",
       "      <td>26.0</td>\n",
       "      <td>Post-IPO</td>\n",
       "      <td>United States</td>\n",
       "      <td>1</td>\n",
       "      <td>Friday</td>\n",
       "      <td>2023</td>\n",
       "    </tr>\n",
       "    <tr>\n",
       "      <th>1962</th>\n",
       "      <td>Meta</td>\n",
       "      <td>SF Bay Area</td>\n",
       "      <td>Consumer</td>\n",
       "      <td>11000</td>\n",
       "      <td>0.13</td>\n",
       "      <td>2022-11-09</td>\n",
       "      <td>26000.0</td>\n",
       "      <td>Post-IPO</td>\n",
       "      <td>United States</td>\n",
       "      <td>11</td>\n",
       "      <td>Wednesday</td>\n",
       "      <td>2022</td>\n",
       "    </tr>\n",
       "    <tr>\n",
       "      <th>1511</th>\n",
       "      <td>Microsoft</td>\n",
       "      <td>Seattle</td>\n",
       "      <td>Other</td>\n",
       "      <td>10000</td>\n",
       "      <td>0.05</td>\n",
       "      <td>2023-01-18</td>\n",
       "      <td>1.0</td>\n",
       "      <td>Post-IPO</td>\n",
       "      <td>United States</td>\n",
       "      <td>1</td>\n",
       "      <td>Wednesday</td>\n",
       "      <td>2023</td>\n",
       "    </tr>\n",
       "    <tr>\n",
       "      <th>1894</th>\n",
       "      <td>Amazon</td>\n",
       "      <td>Seattle</td>\n",
       "      <td>Retail</td>\n",
       "      <td>10000</td>\n",
       "      <td>0.03</td>\n",
       "      <td>2022-11-16</td>\n",
       "      <td>108.0</td>\n",
       "      <td>Post-IPO</td>\n",
       "      <td>United States</td>\n",
       "      <td>11</td>\n",
       "      <td>Wednesday</td>\n",
       "      <td>2022</td>\n",
       "    </tr>\n",
       "  </tbody>\n",
       "</table>\n",
       "</div>"
      ],
      "text/plain": [
       "        company     location        industry  laid_off_count  percentage  \\\n",
       "16        Tesla       Austin  Transportation           14000        0.10   \n",
       "1478     Google  SF Bay Area        Consumer           12000        0.06   \n",
       "1962       Meta  SF Bay Area        Consumer           11000        0.13   \n",
       "1511  Microsoft      Seattle           Other           10000        0.05   \n",
       "1894     Amazon      Seattle          Retail           10000        0.03   \n",
       "\n",
       "           date  funds_raised     stage        country  month        day  year  \n",
       "16   2024-04-15       20200.0  Post-IPO  United States      4     Monday  2024  \n",
       "1478 2023-01-20          26.0  Post-IPO  United States      1     Friday  2023  \n",
       "1962 2022-11-09       26000.0  Post-IPO  United States     11  Wednesday  2022  \n",
       "1511 2023-01-18           1.0  Post-IPO  United States      1  Wednesday  2023  \n",
       "1894 2022-11-16         108.0  Post-IPO  United States     11  Wednesday  2022  "
      ]
     },
     "execution_count": 38,
     "metadata": {},
     "output_type": "execute_result"
    }
   ],
   "source": [
    "df_2024_most_layoffs = df_2024.sort_values(by='laid_off_count', ascending=False)\n",
    "df_2024_most_layoffs.head()"
   ]
  },
  {
   "cell_type": "code",
   "execution_count": 39,
   "id": "415dda3b",
   "metadata": {},
   "outputs": [
    {
     "data": {
      "text/html": [
       "<div>\n",
       "<style scoped>\n",
       "    .dataframe tbody tr th:only-of-type {\n",
       "        vertical-align: middle;\n",
       "    }\n",
       "\n",
       "    .dataframe tbody tr th {\n",
       "        vertical-align: top;\n",
       "    }\n",
       "\n",
       "    .dataframe thead th {\n",
       "        text-align: right;\n",
       "    }\n",
       "</style>\n",
       "<table border=\"1\" class=\"dataframe\">\n",
       "  <thead>\n",
       "    <tr style=\"text-align: right;\">\n",
       "      <th></th>\n",
       "      <th>company</th>\n",
       "      <th>location</th>\n",
       "      <th>industry</th>\n",
       "      <th>laid_off_count</th>\n",
       "      <th>percentage</th>\n",
       "      <th>date</th>\n",
       "      <th>funds_raised</th>\n",
       "      <th>stage</th>\n",
       "      <th>country</th>\n",
       "      <th>month</th>\n",
       "      <th>day</th>\n",
       "      <th>year</th>\n",
       "    </tr>\n",
       "  </thead>\n",
       "  <tbody>\n",
       "    <tr>\n",
       "      <th>1478</th>\n",
       "      <td>Google</td>\n",
       "      <td>SF Bay Area</td>\n",
       "      <td>Consumer</td>\n",
       "      <td>12000</td>\n",
       "      <td>0.06</td>\n",
       "      <td>2023-01-20</td>\n",
       "      <td>26.0</td>\n",
       "      <td>Post-IPO</td>\n",
       "      <td>United States</td>\n",
       "      <td>1</td>\n",
       "      <td>Friday</td>\n",
       "      <td>2023</td>\n",
       "    </tr>\n",
       "    <tr>\n",
       "      <th>1511</th>\n",
       "      <td>Microsoft</td>\n",
       "      <td>Seattle</td>\n",
       "      <td>Other</td>\n",
       "      <td>10000</td>\n",
       "      <td>0.05</td>\n",
       "      <td>2023-01-18</td>\n",
       "      <td>1.0</td>\n",
       "      <td>Post-IPO</td>\n",
       "      <td>United States</td>\n",
       "      <td>1</td>\n",
       "      <td>Wednesday</td>\n",
       "      <td>2023</td>\n",
       "    </tr>\n",
       "    <tr>\n",
       "      <th>1223</th>\n",
       "      <td>Ericsson</td>\n",
       "      <td>Stockholm</td>\n",
       "      <td>Other</td>\n",
       "      <td>8500</td>\n",
       "      <td>0.08</td>\n",
       "      <td>2023-02-24</td>\n",
       "      <td>663.0</td>\n",
       "      <td>Post-IPO</td>\n",
       "      <td>Sweden</td>\n",
       "      <td>2</td>\n",
       "      <td>Friday</td>\n",
       "      <td>2023</td>\n",
       "    </tr>\n",
       "    <tr>\n",
       "      <th>1653</th>\n",
       "      <td>Amazon</td>\n",
       "      <td>Seattle</td>\n",
       "      <td>Retail</td>\n",
       "      <td>8000</td>\n",
       "      <td>0.02</td>\n",
       "      <td>2023-01-04</td>\n",
       "      <td>108.0</td>\n",
       "      <td>Post-IPO</td>\n",
       "      <td>United States</td>\n",
       "      <td>1</td>\n",
       "      <td>Wednesday</td>\n",
       "      <td>2023</td>\n",
       "    </tr>\n",
       "    <tr>\n",
       "      <th>1011</th>\n",
       "      <td>Flink</td>\n",
       "      <td>Berlin</td>\n",
       "      <td>Food</td>\n",
       "      <td>8000</td>\n",
       "      <td>0.40</td>\n",
       "      <td>2023-04-24</td>\n",
       "      <td>1000.0</td>\n",
       "      <td>Series B</td>\n",
       "      <td>Germany</td>\n",
       "      <td>4</td>\n",
       "      <td>Monday</td>\n",
       "      <td>2023</td>\n",
       "    </tr>\n",
       "  </tbody>\n",
       "</table>\n",
       "</div>"
      ],
      "text/plain": [
       "        company     location  industry  laid_off_count  percentage       date  \\\n",
       "1478     Google  SF Bay Area  Consumer           12000        0.06 2023-01-20   \n",
       "1511  Microsoft      Seattle     Other           10000        0.05 2023-01-18   \n",
       "1223   Ericsson    Stockholm     Other            8500        0.08 2023-02-24   \n",
       "1653     Amazon      Seattle    Retail            8000        0.02 2023-01-04   \n",
       "1011      Flink       Berlin      Food            8000        0.40 2023-04-24   \n",
       "\n",
       "      funds_raised     stage        country  month        day  year  \n",
       "1478          26.0  Post-IPO  United States      1     Friday  2023  \n",
       "1511           1.0  Post-IPO  United States      1  Wednesday  2023  \n",
       "1223         663.0  Post-IPO         Sweden      2     Friday  2023  \n",
       "1653         108.0  Post-IPO  United States      1  Wednesday  2023  \n",
       "1011        1000.0  Series B        Germany      4     Monday  2023  "
      ]
     },
     "execution_count": 39,
     "metadata": {},
     "output_type": "execute_result"
    }
   ],
   "source": [
    "df_2023_most_layoffs = df_2023.sort_values(by='laid_off_count', ascending=False)\n",
    "df_2023_most_layoffs.head()"
   ]
  },
  {
   "cell_type": "code",
   "execution_count": 40,
   "id": "7fd3e39f",
   "metadata": {},
   "outputs": [
    {
     "data": {
      "text/html": [
       "<div>\n",
       "<style scoped>\n",
       "    .dataframe tbody tr th:only-of-type {\n",
       "        vertical-align: middle;\n",
       "    }\n",
       "\n",
       "    .dataframe tbody tr th {\n",
       "        vertical-align: top;\n",
       "    }\n",
       "\n",
       "    .dataframe thead th {\n",
       "        text-align: right;\n",
       "    }\n",
       "</style>\n",
       "<table border=\"1\" class=\"dataframe\">\n",
       "  <thead>\n",
       "    <tr style=\"text-align: right;\">\n",
       "      <th></th>\n",
       "      <th>company</th>\n",
       "      <th>location</th>\n",
       "      <th>industry</th>\n",
       "      <th>laid_off_count</th>\n",
       "      <th>percentage</th>\n",
       "      <th>date</th>\n",
       "      <th>funds_raised</th>\n",
       "      <th>stage</th>\n",
       "      <th>country</th>\n",
       "      <th>month</th>\n",
       "      <th>day</th>\n",
       "      <th>year</th>\n",
       "    </tr>\n",
       "  </thead>\n",
       "  <tbody>\n",
       "    <tr>\n",
       "      <th>1962</th>\n",
       "      <td>Meta</td>\n",
       "      <td>SF Bay Area</td>\n",
       "      <td>Consumer</td>\n",
       "      <td>11000</td>\n",
       "      <td>0.13</td>\n",
       "      <td>2022-11-09</td>\n",
       "      <td>26000.0</td>\n",
       "      <td>Post-IPO</td>\n",
       "      <td>United States</td>\n",
       "      <td>11</td>\n",
       "      <td>Wednesday</td>\n",
       "      <td>2022</td>\n",
       "    </tr>\n",
       "    <tr>\n",
       "      <th>1894</th>\n",
       "      <td>Amazon</td>\n",
       "      <td>Seattle</td>\n",
       "      <td>Retail</td>\n",
       "      <td>10000</td>\n",
       "      <td>0.03</td>\n",
       "      <td>2022-11-16</td>\n",
       "      <td>108.0</td>\n",
       "      <td>Post-IPO</td>\n",
       "      <td>United States</td>\n",
       "      <td>11</td>\n",
       "      <td>Wednesday</td>\n",
       "      <td>2022</td>\n",
       "    </tr>\n",
       "    <tr>\n",
       "      <th>1895</th>\n",
       "      <td>Cisco</td>\n",
       "      <td>SF Bay Area</td>\n",
       "      <td>Infrastructure</td>\n",
       "      <td>4100</td>\n",
       "      <td>0.05</td>\n",
       "      <td>2022-11-16</td>\n",
       "      <td>2.0</td>\n",
       "      <td>Post-IPO</td>\n",
       "      <td>United States</td>\n",
       "      <td>11</td>\n",
       "      <td>Wednesday</td>\n",
       "      <td>2022</td>\n",
       "    </tr>\n",
       "    <tr>\n",
       "      <th>2064</th>\n",
       "      <td>Philips</td>\n",
       "      <td>Amsterdam</td>\n",
       "      <td>Healthcare</td>\n",
       "      <td>4000</td>\n",
       "      <td>0.05</td>\n",
       "      <td>2022-10-24</td>\n",
       "      <td>0.0</td>\n",
       "      <td>Post-IPO</td>\n",
       "      <td>Netherlands</td>\n",
       "      <td>10</td>\n",
       "      <td>Monday</td>\n",
       "      <td>2022</td>\n",
       "    </tr>\n",
       "    <tr>\n",
       "      <th>1994</th>\n",
       "      <td>Twitter</td>\n",
       "      <td>SF Bay Area</td>\n",
       "      <td>Consumer</td>\n",
       "      <td>3700</td>\n",
       "      <td>0.50</td>\n",
       "      <td>2022-11-04</td>\n",
       "      <td>12900.0</td>\n",
       "      <td>Post-IPO</td>\n",
       "      <td>United States</td>\n",
       "      <td>11</td>\n",
       "      <td>Friday</td>\n",
       "      <td>2022</td>\n",
       "    </tr>\n",
       "  </tbody>\n",
       "</table>\n",
       "</div>"
      ],
      "text/plain": [
       "      company     location        industry  laid_off_count  percentage  \\\n",
       "1962     Meta  SF Bay Area        Consumer           11000        0.13   \n",
       "1894   Amazon      Seattle          Retail           10000        0.03   \n",
       "1895    Cisco  SF Bay Area  Infrastructure            4100        0.05   \n",
       "2064  Philips    Amsterdam      Healthcare            4000        0.05   \n",
       "1994  Twitter  SF Bay Area        Consumer            3700        0.50   \n",
       "\n",
       "           date  funds_raised     stage        country  month        day  year  \n",
       "1962 2022-11-09       26000.0  Post-IPO  United States     11  Wednesday  2022  \n",
       "1894 2022-11-16         108.0  Post-IPO  United States     11  Wednesday  2022  \n",
       "1895 2022-11-16           2.0  Post-IPO  United States     11  Wednesday  2022  \n",
       "2064 2022-10-24           0.0  Post-IPO    Netherlands     10     Monday  2022  \n",
       "1994 2022-11-04       12900.0  Post-IPO  United States     11     Friday  2022  "
      ]
     },
     "execution_count": 40,
     "metadata": {},
     "output_type": "execute_result"
    }
   ],
   "source": [
    "df_2022_most_layoffs = df_2022.sort_values(by='laid_off_count', ascending=False)\n",
    "df_2022_most_layoffs.head()"
   ]
  },
  {
   "cell_type": "code",
   "execution_count": 41,
   "id": "3cd424f9",
   "metadata": {},
   "outputs": [
    {
     "data": {
      "text/html": [
       "<div>\n",
       "<style scoped>\n",
       "    .dataframe tbody tr th:only-of-type {\n",
       "        vertical-align: middle;\n",
       "    }\n",
       "\n",
       "    .dataframe tbody tr th {\n",
       "        vertical-align: top;\n",
       "    }\n",
       "\n",
       "    .dataframe thead th {\n",
       "        text-align: right;\n",
       "    }\n",
       "</style>\n",
       "<table border=\"1\" class=\"dataframe\">\n",
       "  <thead>\n",
       "    <tr style=\"text-align: right;\">\n",
       "      <th></th>\n",
       "      <th>company</th>\n",
       "      <th>location</th>\n",
       "      <th>industry</th>\n",
       "      <th>laid_off_count</th>\n",
       "      <th>percentage</th>\n",
       "      <th>date</th>\n",
       "      <th>funds_raised</th>\n",
       "      <th>stage</th>\n",
       "      <th>country</th>\n",
       "      <th>month</th>\n",
       "      <th>day</th>\n",
       "      <th>year</th>\n",
       "    </tr>\n",
       "  </thead>\n",
       "  <tbody>\n",
       "    <tr>\n",
       "      <th>2914</th>\n",
       "      <td>Katerra</td>\n",
       "      <td>SF Bay Area</td>\n",
       "      <td>Construction</td>\n",
       "      <td>2434</td>\n",
       "      <td>1.00</td>\n",
       "      <td>2021-06-01</td>\n",
       "      <td>1600.0</td>\n",
       "      <td>Unknown</td>\n",
       "      <td>United States</td>\n",
       "      <td>6</td>\n",
       "      <td>Tuesday</td>\n",
       "      <td>2021</td>\n",
       "    </tr>\n",
       "    <tr>\n",
       "      <th>2902</th>\n",
       "      <td>Zillow</td>\n",
       "      <td>Seattle</td>\n",
       "      <td>Real Estate</td>\n",
       "      <td>2000</td>\n",
       "      <td>0.25</td>\n",
       "      <td>2021-11-02</td>\n",
       "      <td>97.0</td>\n",
       "      <td>Post-IPO</td>\n",
       "      <td>United States</td>\n",
       "      <td>11</td>\n",
       "      <td>Tuesday</td>\n",
       "      <td>2021</td>\n",
       "    </tr>\n",
       "    <tr>\n",
       "      <th>2900</th>\n",
       "      <td>Better.com</td>\n",
       "      <td>New York City</td>\n",
       "      <td>Real Estate</td>\n",
       "      <td>900</td>\n",
       "      <td>0.09</td>\n",
       "      <td>2021-12-01</td>\n",
       "      <td>905.0</td>\n",
       "      <td>Unknown</td>\n",
       "      <td>United States</td>\n",
       "      <td>12</td>\n",
       "      <td>Wednesday</td>\n",
       "      <td>2021</td>\n",
       "    </tr>\n",
       "    <tr>\n",
       "      <th>2938</th>\n",
       "      <td>Dropbox</td>\n",
       "      <td>SF Bay Area</td>\n",
       "      <td>Other</td>\n",
       "      <td>315</td>\n",
       "      <td>0.15</td>\n",
       "      <td>2021-01-13</td>\n",
       "      <td>1700.0</td>\n",
       "      <td>Post-IPO</td>\n",
       "      <td>United States</td>\n",
       "      <td>1</td>\n",
       "      <td>Wednesday</td>\n",
       "      <td>2021</td>\n",
       "    </tr>\n",
       "    <tr>\n",
       "      <th>2926</th>\n",
       "      <td>Bounce</td>\n",
       "      <td>Bengaluru</td>\n",
       "      <td>Transportation</td>\n",
       "      <td>200</td>\n",
       "      <td>0.40</td>\n",
       "      <td>2021-02-22</td>\n",
       "      <td>214.2</td>\n",
       "      <td>Series D</td>\n",
       "      <td>India</td>\n",
       "      <td>2</td>\n",
       "      <td>Monday</td>\n",
       "      <td>2021</td>\n",
       "    </tr>\n",
       "  </tbody>\n",
       "</table>\n",
       "</div>"
      ],
      "text/plain": [
       "         company       location        industry  laid_off_count  percentage  \\\n",
       "2914     Katerra    SF Bay Area    Construction            2434        1.00   \n",
       "2902      Zillow        Seattle     Real Estate            2000        0.25   \n",
       "2900  Better.com  New York City     Real Estate             900        0.09   \n",
       "2938     Dropbox    SF Bay Area           Other             315        0.15   \n",
       "2926      Bounce      Bengaluru  Transportation             200        0.40   \n",
       "\n",
       "           date  funds_raised     stage        country  month        day  year  \n",
       "2914 2021-06-01        1600.0   Unknown  United States      6    Tuesday  2021  \n",
       "2902 2021-11-02          97.0  Post-IPO  United States     11    Tuesday  2021  \n",
       "2900 2021-12-01         905.0   Unknown  United States     12  Wednesday  2021  \n",
       "2938 2021-01-13        1700.0  Post-IPO  United States      1  Wednesday  2021  \n",
       "2926 2021-02-22         214.2  Series D          India      2     Monday  2021  "
      ]
     },
     "execution_count": 41,
     "metadata": {},
     "output_type": "execute_result"
    }
   ],
   "source": [
    "df_2021_most_layoffs = df_2021.sort_values(by='laid_off_count', ascending=False)\n",
    "df_2021_most_layoffs.head()"
   ]
  },
  {
   "cell_type": "code",
   "execution_count": 42,
   "id": "3db6554c",
   "metadata": {},
   "outputs": [
    {
     "data": {
      "text/html": [
       "<div>\n",
       "<style scoped>\n",
       "    .dataframe tbody tr th:only-of-type {\n",
       "        vertical-align: middle;\n",
       "    }\n",
       "\n",
       "    .dataframe tbody tr th {\n",
       "        vertical-align: top;\n",
       "    }\n",
       "\n",
       "    .dataframe thead th {\n",
       "        text-align: right;\n",
       "    }\n",
       "</style>\n",
       "<table border=\"1\" class=\"dataframe\">\n",
       "  <thead>\n",
       "    <tr style=\"text-align: right;\">\n",
       "      <th></th>\n",
       "      <th>company</th>\n",
       "      <th>location</th>\n",
       "      <th>industry</th>\n",
       "      <th>laid_off_count</th>\n",
       "      <th>percentage</th>\n",
       "      <th>date</th>\n",
       "      <th>funds_raised</th>\n",
       "      <th>stage</th>\n",
       "      <th>country</th>\n",
       "      <th>month</th>\n",
       "      <th>day</th>\n",
       "      <th>year</th>\n",
       "    </tr>\n",
       "  </thead>\n",
       "  <tbody>\n",
       "    <tr>\n",
       "      <th>3000</th>\n",
       "      <td>Booking.com</td>\n",
       "      <td>Amsterdam</td>\n",
       "      <td>Travel</td>\n",
       "      <td>4375</td>\n",
       "      <td>0.25</td>\n",
       "      <td>2020-07-30</td>\n",
       "      <td>0.0</td>\n",
       "      <td>Acquired</td>\n",
       "      <td>Netherlands</td>\n",
       "      <td>7</td>\n",
       "      <td>Thursday</td>\n",
       "      <td>2020</td>\n",
       "    </tr>\n",
       "    <tr>\n",
       "      <th>3150</th>\n",
       "      <td>Uber</td>\n",
       "      <td>SF Bay Area</td>\n",
       "      <td>Transportation</td>\n",
       "      <td>3700</td>\n",
       "      <td>0.14</td>\n",
       "      <td>2020-05-06</td>\n",
       "      <td>24700.0</td>\n",
       "      <td>Post-IPO</td>\n",
       "      <td>United States</td>\n",
       "      <td>5</td>\n",
       "      <td>Wednesday</td>\n",
       "      <td>2020</td>\n",
       "    </tr>\n",
       "    <tr>\n",
       "      <th>3104</th>\n",
       "      <td>Uber</td>\n",
       "      <td>SF Bay Area</td>\n",
       "      <td>Transportation</td>\n",
       "      <td>3000</td>\n",
       "      <td>0.13</td>\n",
       "      <td>2020-05-18</td>\n",
       "      <td>24700.0</td>\n",
       "      <td>Post-IPO</td>\n",
       "      <td>United States</td>\n",
       "      <td>5</td>\n",
       "      <td>Monday</td>\n",
       "      <td>2020</td>\n",
       "    </tr>\n",
       "    <tr>\n",
       "      <th>3305</th>\n",
       "      <td>Groupon</td>\n",
       "      <td>Chicago</td>\n",
       "      <td>Retail</td>\n",
       "      <td>2800</td>\n",
       "      <td>0.44</td>\n",
       "      <td>2020-04-13</td>\n",
       "      <td>1400.0</td>\n",
       "      <td>Post-IPO</td>\n",
       "      <td>United States</td>\n",
       "      <td>4</td>\n",
       "      <td>Monday</td>\n",
       "      <td>2020</td>\n",
       "    </tr>\n",
       "    <tr>\n",
       "      <th>3157</th>\n",
       "      <td>Airbnb</td>\n",
       "      <td>SF Bay Area</td>\n",
       "      <td>Travel</td>\n",
       "      <td>1900</td>\n",
       "      <td>0.25</td>\n",
       "      <td>2020-05-05</td>\n",
       "      <td>5400.0</td>\n",
       "      <td>Private Equity</td>\n",
       "      <td>United States</td>\n",
       "      <td>5</td>\n",
       "      <td>Tuesday</td>\n",
       "      <td>2020</td>\n",
       "    </tr>\n",
       "  </tbody>\n",
       "</table>\n",
       "</div>"
      ],
      "text/plain": [
       "          company     location        industry  laid_off_count  percentage  \\\n",
       "3000  Booking.com    Amsterdam          Travel            4375        0.25   \n",
       "3150         Uber  SF Bay Area  Transportation            3700        0.14   \n",
       "3104         Uber  SF Bay Area  Transportation            3000        0.13   \n",
       "3305      Groupon      Chicago          Retail            2800        0.44   \n",
       "3157       Airbnb  SF Bay Area          Travel            1900        0.25   \n",
       "\n",
       "           date  funds_raised           stage        country  month  \\\n",
       "3000 2020-07-30           0.0        Acquired    Netherlands      7   \n",
       "3150 2020-05-06       24700.0        Post-IPO  United States      5   \n",
       "3104 2020-05-18       24700.0        Post-IPO  United States      5   \n",
       "3305 2020-04-13        1400.0        Post-IPO  United States      4   \n",
       "3157 2020-05-05        5400.0  Private Equity  United States      5   \n",
       "\n",
       "            day  year  \n",
       "3000   Thursday  2020  \n",
       "3150  Wednesday  2020  \n",
       "3104     Monday  2020  \n",
       "3305     Monday  2020  \n",
       "3157    Tuesday  2020  "
      ]
     },
     "execution_count": 42,
     "metadata": {},
     "output_type": "execute_result"
    }
   ],
   "source": [
    "df_2020_most_layoffs = df_2020.sort_values(by='laid_off_count', ascending=False)\n",
    "df_2020_most_layoffs.head()"
   ]
  },
  {
   "cell_type": "markdown",
   "id": "557b7b38",
   "metadata": {},
   "source": [
    "This analysis highlights a significant trend: the majority of layoffs, year after year, are attributed to top companies situated in the United States. This observation underscores the profound influence of the pandemic on the U.S. job market, emphasizing the widespread ramifications of economic disruptions and organizational restructuring efforts within the nation's leading firms.\n",
    "Also this year in 2024 ,from january to April ,layoffs are most in US."
   ]
  },
  {
   "cell_type": "markdown",
   "id": "f720c324",
   "metadata": {},
   "source": [
    "# Q3.Fund raised over years?"
   ]
  },
  {
   "cell_type": "code",
   "execution_count": 43,
   "id": "d645628c",
   "metadata": {},
   "outputs": [
    {
     "data": {
      "image/png": "[encoded data removed]",
      "text/plain": [
       "<Figure size 640x480 with 1 Axes>"
      ]
     },
     "metadata": {},
     "output_type": "display_data"
    }
   ],
   "source": [
    "# fund raised in each year \n",
    "df.groupby('year')['funds_raised'].sum().plot(kind='bar')\n",
    "plt.ylabel('Fund raised')\n",
    "plt.title('Fund raised over Years',size=15)\n",
    "plt.show()"
   ]
  },
  {
   "cell_type": "markdown",
   "id": "81270be6",
   "metadata": {},
   "source": [
    "# Q4. Fund raised across countries?"
   ]
  },
  {
   "cell_type": "code",
   "execution_count": 44,
   "id": "8c661e4c",
   "metadata": {},
   "outputs": [
    {
     "data": {
      "image/png": "[encoded data removed]",
      "text/plain": [
       "<Figure size 1500x500 with 1 Axes>"
      ]
     },
     "metadata": {},
     "output_type": "display_data"
    }
   ],
   "source": [
    "plt.figure(figsize=(15,5))\n",
    "df.groupby('country')['funds_raised'].sum().sort_values(ascending=False).plot(kind='bar')\n",
    "plt.ylabel('Fund raised')\n",
    "plt.xlabel('Country')\n",
    "plt.title('Fund raised across countries',size=15)\n",
    "plt.show()"
   ]
  },
  {
   "cell_type": "markdown",
   "id": "1b9d7d9b",
   "metadata": {},
   "source": [
    "## Q5 Number of Layoffs across different countries?"
   ]
  },
  {
   "cell_type": "code",
   "execution_count": 45,
   "id": "154a40b0",
   "metadata": {},
   "outputs": [
    {
     "data": {
      "image/png": "[encoded data removed]",
      "text/plain": [
       "<Figure size 1500x700 with 1 Axes>"
      ]
     },
     "metadata": {},
     "output_type": "display_data"
    }
   ],
   "source": [
    "plt.figure(figsize=(15,7))\n",
    "df.groupby('country')['laid_off_count'].sum().sort_values(ascending=False).plot(kind='bar')\n",
    "plt.ylabel('Number of Layoffs')\n",
    "plt.title('Layoffs across Contries',size=15)\n",
    "plt.show()"
   ]
  },
  {
   "cell_type": "markdown",
   "id": "5ac018e1",
   "metadata": {},
   "source": [
    "This analysis reveals that the United States, India, Germany, the Netherlands, the United Kingdom, and Sweden stand out as the countries most profoundly impacted thus far."
   ]
  },
  {
   "cell_type": "markdown",
   "id": "1971bbb3",
   "metadata": {},
   "source": [
    "## Q6 Layoffs within industries?"
   ]
  },
  {
   "cell_type": "code",
   "execution_count": 46,
   "id": "432989b3",
   "metadata": {},
   "outputs": [
    {
     "data": {
      "image/png": "[encoded data removed]",
      "text/plain": [
       "<Figure size 1500x700 with 1 Axes>"
      ]
     },
     "metadata": {},
     "output_type": "display_data"
    }
   ],
   "source": [
    "plt.figure(figsize=(15,7))\n",
    "df.groupby('industry')['laid_off_count'].sum().sort_values(ascending=False).plot(kind='bar')\n",
    "plt.ylabel('Number of Layoffs')\n",
    "plt.title('Layoffs across industries',size=15)\n",
    "plt.show()"
   ]
  },
  {
   "cell_type": "markdown",
   "id": "72f144be",
   "metadata": {},
   "source": [
    "## Q7. Average layoffs for each industry?"
   ]
  },
  {
   "cell_type": "code",
   "execution_count": 47,
   "id": "866c7ea4",
   "metadata": {},
   "outputs": [
    {
     "data": {
      "image/png": "[encoded data removed]",
      "text/plain": [
       "<Figure size 1500x700 with 1 Axes>"
      ]
     },
     "metadata": {},
     "output_type": "display_data"
    }
   ],
   "source": [
    "plt.figure(figsize=(15,7))\n",
    "df.groupby('industry')['percentage'].mean().sort_values(ascending=False).plot(kind='bar')\n",
    "plt.ylabel('Number of Layoffs')\n",
    "plt.title(' Average Percentage of Layoff by Industry',size=15)\n",
    "plt.show()"
   ]
  },
  {
   "cell_type": "markdown",
   "id": "f3cc7444",
   "metadata": {},
   "source": [
    "## Q8. Layoffs by stage?"
   ]
  },
  {
   "cell_type": "code",
   "execution_count": 48,
   "id": "3d790846",
   "metadata": {},
   "outputs": [
    {
     "data": {
      "image/png": "[encoded data removed]",
      "text/plain": [
       "<Figure size 640x480 with 1 Axes>"
      ]
     },
     "metadata": {},
     "output_type": "display_data"
    }
   ],
   "source": [
    "#find layoff by stage\n",
    "df.groupby('stage')['laid_off_count'].sum().sort_values(ascending=False).plot(kind='bar')\n",
    "plt.title('Layoff by Stage')\n",
    "plt.xlabel('Stage')\n",
    "plt.ylabel('Layoff Count');"
   ]
  },
  {
   "cell_type": "markdown",
   "id": "0894621c",
   "metadata": {},
   "source": [
    "Maturity and Stability: Established companies at later stages of development, such as those in the post-IPO or mature stages, typically have more stable operations and a diversified revenue base. Layoffs in these stages may occur due to strategic realignment, cost-cutting initiatives, or market fluctuations affecting specific business units or regions."
   ]
  },
  {
   "cell_type": "markdown",
   "id": "74d3f255",
   "metadata": {},
   "source": [
    "## Q10. Layoffs by month "
   ]
  },
  {
   "cell_type": "code",
   "execution_count": 49,
   "id": "e48b73fc",
   "metadata": {},
   "outputs": [
    {
     "data": {
      "text/html": [
       "<div>\n",
       "<style scoped>\n",
       "    .dataframe tbody tr th:only-of-type {\n",
       "        vertical-align: middle;\n",
       "    }\n",
       "\n",
       "    .dataframe tbody tr th {\n",
       "        vertical-align: top;\n",
       "    }\n",
       "\n",
       "    .dataframe thead th {\n",
       "        text-align: right;\n",
       "    }\n",
       "</style>\n",
       "<table border=\"1\" class=\"dataframe\">\n",
       "  <thead>\n",
       "    <tr style=\"text-align: right;\">\n",
       "      <th></th>\n",
       "      <th>layoff_2020</th>\n",
       "    </tr>\n",
       "    <tr>\n",
       "      <th>month</th>\n",
       "      <th></th>\n",
       "    </tr>\n",
       "  </thead>\n",
       "  <tbody>\n",
       "    <tr>\n",
       "      <th>3</th>\n",
       "      <td>7558</td>\n",
       "    </tr>\n",
       "    <tr>\n",
       "      <th>4</th>\n",
       "      <td>22350</td>\n",
       "    </tr>\n",
       "    <tr>\n",
       "      <th>5</th>\n",
       "      <td>24488</td>\n",
       "    </tr>\n",
       "    <tr>\n",
       "      <th>6</th>\n",
       "      <td>7023</td>\n",
       "    </tr>\n",
       "    <tr>\n",
       "      <th>7</th>\n",
       "      <td>6573</td>\n",
       "    </tr>\n",
       "    <tr>\n",
       "      <th>8</th>\n",
       "      <td>1853</td>\n",
       "    </tr>\n",
       "    <tr>\n",
       "      <th>9</th>\n",
       "      <td>339</td>\n",
       "    </tr>\n",
       "    <tr>\n",
       "      <th>10</th>\n",
       "      <td>110</td>\n",
       "    </tr>\n",
       "    <tr>\n",
       "      <th>11</th>\n",
       "      <td>207</td>\n",
       "    </tr>\n",
       "    <tr>\n",
       "      <th>12</th>\n",
       "      <td>120</td>\n",
       "    </tr>\n",
       "  </tbody>\n",
       "</table>\n",
       "</div>"
      ],
      "text/plain": [
       "       layoff_2020\n",
       "month             \n",
       "3             7558\n",
       "4            22350\n",
       "5            24488\n",
       "6             7023\n",
       "7             6573\n",
       "8             1853\n",
       "9              339\n",
       "10             110\n",
       "11             207\n",
       "12             120"
      ]
     },
     "execution_count": 49,
     "metadata": {},
     "output_type": "execute_result"
    }
   ],
   "source": [
    "#layoff by month for year 2020\n",
    "df20 = df.query('year == 2020')\n",
    "df1 = df20.groupby('month')['laid_off_count'].sum().to_frame()\n",
    "df1.rename(columns={'laid_off_count':'layoff_2020'},inplace=True)\n",
    "df1"
   ]
  },
  {
   "cell_type": "code",
   "execution_count": 50,
   "id": "a848154d",
   "metadata": {},
   "outputs": [
    {
     "data": {
      "text/html": [
       "<div>\n",
       "<style scoped>\n",
       "    .dataframe tbody tr th:only-of-type {\n",
       "        vertical-align: middle;\n",
       "    }\n",
       "\n",
       "    .dataframe tbody tr th {\n",
       "        vertical-align: top;\n",
       "    }\n",
       "\n",
       "    .dataframe thead th {\n",
       "        text-align: right;\n",
       "    }\n",
       "</style>\n",
       "<table border=\"1\" class=\"dataframe\">\n",
       "  <thead>\n",
       "    <tr style=\"text-align: right;\">\n",
       "      <th></th>\n",
       "      <th>layoff_2021</th>\n",
       "    </tr>\n",
       "    <tr>\n",
       "      <th>month</th>\n",
       "      <th></th>\n",
       "    </tr>\n",
       "  </thead>\n",
       "  <tbody>\n",
       "    <tr>\n",
       "      <th>1</th>\n",
       "      <td>516</td>\n",
       "    </tr>\n",
       "    <tr>\n",
       "      <th>2</th>\n",
       "      <td>345</td>\n",
       "    </tr>\n",
       "    <tr>\n",
       "      <th>4</th>\n",
       "      <td>160</td>\n",
       "    </tr>\n",
       "    <tr>\n",
       "      <th>6</th>\n",
       "      <td>2434</td>\n",
       "    </tr>\n",
       "    <tr>\n",
       "      <th>8</th>\n",
       "      <td>37</td>\n",
       "    </tr>\n",
       "    <tr>\n",
       "      <th>9</th>\n",
       "      <td>41</td>\n",
       "    </tr>\n",
       "    <tr>\n",
       "      <th>11</th>\n",
       "      <td>2070</td>\n",
       "    </tr>\n",
       "    <tr>\n",
       "      <th>12</th>\n",
       "      <td>900</td>\n",
       "    </tr>\n",
       "  </tbody>\n",
       "</table>\n",
       "</div>"
      ],
      "text/plain": [
       "       layoff_2021\n",
       "month             \n",
       "1              516\n",
       "2              345\n",
       "4              160\n",
       "6             2434\n",
       "8               37\n",
       "9               41\n",
       "11            2070\n",
       "12             900"
      ]
     },
     "execution_count": 50,
     "metadata": {},
     "output_type": "execute_result"
    }
   ],
   "source": [
    "df21 = df.query('year == 2021')\n",
    "df2 = df21.groupby('month')['laid_off_count'].sum().to_frame()\n",
    "df2.rename(columns={'laid_off_count':'layoff_2021'},inplace=True)\n",
    "df2\n",
    "    "
   ]
  },
  {
   "cell_type": "code",
   "execution_count": 51,
   "id": "394b274a",
   "metadata": {},
   "outputs": [
    {
     "data": {
      "text/html": [
       "<div>\n",
       "<style scoped>\n",
       "    .dataframe tbody tr th:only-of-type {\n",
       "        vertical-align: middle;\n",
       "    }\n",
       "\n",
       "    .dataframe tbody tr th {\n",
       "        vertical-align: top;\n",
       "    }\n",
       "\n",
       "    .dataframe thead th {\n",
       "        text-align: right;\n",
       "    }\n",
       "</style>\n",
       "<table border=\"1\" class=\"dataframe\">\n",
       "  <thead>\n",
       "    <tr style=\"text-align: right;\">\n",
       "      <th></th>\n",
       "      <th>layoff_2022</th>\n",
       "    </tr>\n",
       "    <tr>\n",
       "      <th>month</th>\n",
       "      <th></th>\n",
       "    </tr>\n",
       "  </thead>\n",
       "  <tbody>\n",
       "    <tr>\n",
       "      <th>1</th>\n",
       "      <td>80</td>\n",
       "    </tr>\n",
       "    <tr>\n",
       "      <th>2</th>\n",
       "      <td>3385</td>\n",
       "    </tr>\n",
       "    <tr>\n",
       "      <th>3</th>\n",
       "      <td>4514</td>\n",
       "    </tr>\n",
       "    <tr>\n",
       "      <th>4</th>\n",
       "      <td>2581</td>\n",
       "    </tr>\n",
       "    <tr>\n",
       "      <th>5</th>\n",
       "      <td>11835</td>\n",
       "    </tr>\n",
       "    <tr>\n",
       "      <th>6</th>\n",
       "      <td>15721</td>\n",
       "    </tr>\n",
       "    <tr>\n",
       "      <th>7</th>\n",
       "      <td>10395</td>\n",
       "    </tr>\n",
       "    <tr>\n",
       "      <th>8</th>\n",
       "      <td>11043</td>\n",
       "    </tr>\n",
       "    <tr>\n",
       "      <th>9</th>\n",
       "      <td>3893</td>\n",
       "    </tr>\n",
       "    <tr>\n",
       "      <th>10</th>\n",
       "      <td>18506</td>\n",
       "    </tr>\n",
       "    <tr>\n",
       "      <th>11</th>\n",
       "      <td>49971</td>\n",
       "    </tr>\n",
       "    <tr>\n",
       "      <th>12</th>\n",
       "      <td>7996</td>\n",
       "    </tr>\n",
       "  </tbody>\n",
       "</table>\n",
       "</div>"
      ],
      "text/plain": [
       "       layoff_2022\n",
       "month             \n",
       "1               80\n",
       "2             3385\n",
       "3             4514\n",
       "4             2581\n",
       "5            11835\n",
       "6            15721\n",
       "7            10395\n",
       "8            11043\n",
       "9             3893\n",
       "10           18506\n",
       "11           49971\n",
       "12            7996"
      ]
     },
     "execution_count": 51,
     "metadata": {},
     "output_type": "execute_result"
    }
   ],
   "source": [
    "df22 = df.query('year == 2022')\n",
    "df3 = df22.groupby('month')['laid_off_count'].sum().to_frame()\n",
    "df3.rename(columns={'laid_off_count':'layoff_2022'},inplace=True)\n",
    "df3\n",
    "    "
   ]
  },
  {
   "cell_type": "code",
   "execution_count": 52,
   "id": "d23494bb",
   "metadata": {},
   "outputs": [
    {
     "data": {
      "text/html": [
       "<div>\n",
       "<style scoped>\n",
       "    .dataframe tbody tr th:only-of-type {\n",
       "        vertical-align: middle;\n",
       "    }\n",
       "\n",
       "    .dataframe tbody tr th {\n",
       "        vertical-align: top;\n",
       "    }\n",
       "\n",
       "    .dataframe thead th {\n",
       "        text-align: right;\n",
       "    }\n",
       "</style>\n",
       "<table border=\"1\" class=\"dataframe\">\n",
       "  <thead>\n",
       "    <tr style=\"text-align: right;\">\n",
       "      <th></th>\n",
       "      <th>layoff_2023</th>\n",
       "    </tr>\n",
       "    <tr>\n",
       "      <th>month</th>\n",
       "      <th></th>\n",
       "    </tr>\n",
       "  </thead>\n",
       "  <tbody>\n",
       "    <tr>\n",
       "      <th>1</th>\n",
       "      <td>82988</td>\n",
       "    </tr>\n",
       "    <tr>\n",
       "      <th>2</th>\n",
       "      <td>34715</td>\n",
       "    </tr>\n",
       "    <tr>\n",
       "      <th>3</th>\n",
       "      <td>10878</td>\n",
       "    </tr>\n",
       "    <tr>\n",
       "      <th>4</th>\n",
       "      <td>18180</td>\n",
       "    </tr>\n",
       "    <tr>\n",
       "      <th>5</th>\n",
       "      <td>12654</td>\n",
       "    </tr>\n",
       "    <tr>\n",
       "      <th>6</th>\n",
       "      <td>6057</td>\n",
       "    </tr>\n",
       "    <tr>\n",
       "      <th>7</th>\n",
       "      <td>6787</td>\n",
       "    </tr>\n",
       "    <tr>\n",
       "      <th>8</th>\n",
       "      <td>8094</td>\n",
       "    </tr>\n",
       "    <tr>\n",
       "      <th>9</th>\n",
       "      <td>2802</td>\n",
       "    </tr>\n",
       "    <tr>\n",
       "      <th>10</th>\n",
       "      <td>6058</td>\n",
       "    </tr>\n",
       "    <tr>\n",
       "      <th>11</th>\n",
       "      <td>3446</td>\n",
       "    </tr>\n",
       "    <tr>\n",
       "      <th>12</th>\n",
       "      <td>4839</td>\n",
       "    </tr>\n",
       "  </tbody>\n",
       "</table>\n",
       "</div>"
      ],
      "text/plain": [
       "       layoff_2023\n",
       "month             \n",
       "1            82988\n",
       "2            34715\n",
       "3            10878\n",
       "4            18180\n",
       "5            12654\n",
       "6             6057\n",
       "7             6787\n",
       "8             8094\n",
       "9             2802\n",
       "10            6058\n",
       "11            3446\n",
       "12            4839"
      ]
     },
     "execution_count": 52,
     "metadata": {},
     "output_type": "execute_result"
    }
   ],
   "source": [
    "df23 = df.query('year == 2023')\n",
    "df4 = df23.groupby('month')['laid_off_count'].sum().to_frame()\n",
    "df4.rename(columns={'laid_off_count':'layoff_2023'},inplace=True)\n",
    "df4\n",
    "    "
   ]
  },
  {
   "cell_type": "code",
   "execution_count": 53,
   "id": "5b083232",
   "metadata": {},
   "outputs": [
    {
     "data": {
      "text/html": [
       "<div>\n",
       "<style scoped>\n",
       "    .dataframe tbody tr th:only-of-type {\n",
       "        vertical-align: middle;\n",
       "    }\n",
       "\n",
       "    .dataframe tbody tr th {\n",
       "        vertical-align: top;\n",
       "    }\n",
       "\n",
       "    .dataframe thead th {\n",
       "        text-align: right;\n",
       "    }\n",
       "</style>\n",
       "<table border=\"1\" class=\"dataframe\">\n",
       "  <thead>\n",
       "    <tr style=\"text-align: right;\">\n",
       "      <th></th>\n",
       "      <th>layoff_2024</th>\n",
       "    </tr>\n",
       "    <tr>\n",
       "      <th>month</th>\n",
       "      <th></th>\n",
       "    </tr>\n",
       "  </thead>\n",
       "  <tbody>\n",
       "    <tr>\n",
       "      <th>1</th>\n",
       "      <td>28487</td>\n",
       "    </tr>\n",
       "    <tr>\n",
       "      <th>2</th>\n",
       "      <td>13824</td>\n",
       "    </tr>\n",
       "    <tr>\n",
       "      <th>3</th>\n",
       "      <td>7229</td>\n",
       "    </tr>\n",
       "    <tr>\n",
       "      <th>4</th>\n",
       "      <td>16342</td>\n",
       "    </tr>\n",
       "  </tbody>\n",
       "</table>\n",
       "</div>"
      ],
      "text/plain": [
       "       layoff_2024\n",
       "month             \n",
       "1            28487\n",
       "2            13824\n",
       "3             7229\n",
       "4            16342"
      ]
     },
     "execution_count": 53,
     "metadata": {},
     "output_type": "execute_result"
    }
   ],
   "source": [
    "df24 = df.query('year == 2024')\n",
    "df5 = df24.groupby('month')['laid_off_count'].sum().to_frame()\n",
    "df5.rename(columns={'laid_off_count':'layoff_2024'},inplace=True)\n",
    "df5\n",
    "    "
   ]
  },
  {
   "cell_type": "code",
   "execution_count": 54,
   "id": "0d757639",
   "metadata": {},
   "outputs": [
    {
     "data": {
      "text/html": [
       "<div>\n",
       "<style scoped>\n",
       "    .dataframe tbody tr th:only-of-type {\n",
       "        vertical-align: middle;\n",
       "    }\n",
       "\n",
       "    .dataframe tbody tr th {\n",
       "        vertical-align: top;\n",
       "    }\n",
       "\n",
       "    .dataframe thead th {\n",
       "        text-align: right;\n",
       "    }\n",
       "</style>\n",
       "<table border=\"1\" class=\"dataframe\">\n",
       "  <thead>\n",
       "    <tr style=\"text-align: right;\">\n",
       "      <th></th>\n",
       "      <th>layoff_2024</th>\n",
       "      <th>layoff_2023</th>\n",
       "      <th>layoff_2022</th>\n",
       "      <th>layoff_2021</th>\n",
       "      <th>layoff_2020</th>\n",
       "    </tr>\n",
       "    <tr>\n",
       "      <th>month</th>\n",
       "      <th></th>\n",
       "      <th></th>\n",
       "      <th></th>\n",
       "      <th></th>\n",
       "      <th></th>\n",
       "    </tr>\n",
       "  </thead>\n",
       "  <tbody>\n",
       "    <tr>\n",
       "      <th>1</th>\n",
       "      <td>28487.0</td>\n",
       "      <td>82988</td>\n",
       "      <td>80</td>\n",
       "      <td>516.0</td>\n",
       "      <td>NaN</td>\n",
       "    </tr>\n",
       "    <tr>\n",
       "      <th>2</th>\n",
       "      <td>13824.0</td>\n",
       "      <td>34715</td>\n",
       "      <td>3385</td>\n",
       "      <td>345.0</td>\n",
       "      <td>NaN</td>\n",
       "    </tr>\n",
       "    <tr>\n",
       "      <th>3</th>\n",
       "      <td>7229.0</td>\n",
       "      <td>10878</td>\n",
       "      <td>4514</td>\n",
       "      <td>NaN</td>\n",
       "      <td>7558.0</td>\n",
       "    </tr>\n",
       "    <tr>\n",
       "      <th>4</th>\n",
       "      <td>16342.0</td>\n",
       "      <td>18180</td>\n",
       "      <td>2581</td>\n",
       "      <td>160.0</td>\n",
       "      <td>22350.0</td>\n",
       "    </tr>\n",
       "    <tr>\n",
       "      <th>5</th>\n",
       "      <td>NaN</td>\n",
       "      <td>12654</td>\n",
       "      <td>11835</td>\n",
       "      <td>NaN</td>\n",
       "      <td>24488.0</td>\n",
       "    </tr>\n",
       "    <tr>\n",
       "      <th>6</th>\n",
       "      <td>NaN</td>\n",
       "      <td>6057</td>\n",
       "      <td>15721</td>\n",
       "      <td>2434.0</td>\n",
       "      <td>7023.0</td>\n",
       "    </tr>\n",
       "    <tr>\n",
       "      <th>7</th>\n",
       "      <td>NaN</td>\n",
       "      <td>6787</td>\n",
       "      <td>10395</td>\n",
       "      <td>NaN</td>\n",
       "      <td>6573.0</td>\n",
       "    </tr>\n",
       "    <tr>\n",
       "      <th>8</th>\n",
       "      <td>NaN</td>\n",
       "      <td>8094</td>\n",
       "      <td>11043</td>\n",
       "      <td>37.0</td>\n",
       "      <td>1853.0</td>\n",
       "    </tr>\n",
       "    <tr>\n",
       "      <th>9</th>\n",
       "      <td>NaN</td>\n",
       "      <td>2802</td>\n",
       "      <td>3893</td>\n",
       "      <td>41.0</td>\n",
       "      <td>339.0</td>\n",
       "    </tr>\n",
       "    <tr>\n",
       "      <th>10</th>\n",
       "      <td>NaN</td>\n",
       "      <td>6058</td>\n",
       "      <td>18506</td>\n",
       "      <td>NaN</td>\n",
       "      <td>110.0</td>\n",
       "    </tr>\n",
       "    <tr>\n",
       "      <th>11</th>\n",
       "      <td>NaN</td>\n",
       "      <td>3446</td>\n",
       "      <td>49971</td>\n",
       "      <td>2070.0</td>\n",
       "      <td>207.0</td>\n",
       "    </tr>\n",
       "    <tr>\n",
       "      <th>12</th>\n",
       "      <td>NaN</td>\n",
       "      <td>4839</td>\n",
       "      <td>7996</td>\n",
       "      <td>900.0</td>\n",
       "      <td>120.0</td>\n",
       "    </tr>\n",
       "  </tbody>\n",
       "</table>\n",
       "</div>"
      ],
      "text/plain": [
       "       layoff_2024  layoff_2023  layoff_2022  layoff_2021  layoff_2020\n",
       "month                                                                 \n",
       "1          28487.0        82988           80        516.0          NaN\n",
       "2          13824.0        34715         3385        345.0          NaN\n",
       "3           7229.0        10878         4514          NaN       7558.0\n",
       "4          16342.0        18180         2581        160.0      22350.0\n",
       "5              NaN        12654        11835          NaN      24488.0\n",
       "6              NaN         6057        15721       2434.0       7023.0\n",
       "7              NaN         6787        10395          NaN       6573.0\n",
       "8              NaN         8094        11043         37.0       1853.0\n",
       "9              NaN         2802         3893         41.0        339.0\n",
       "10             NaN         6058        18506          NaN        110.0\n",
       "11             NaN         3446        49971       2070.0        207.0\n",
       "12             NaN         4839         7996        900.0        120.0"
      ]
     },
     "execution_count": 54,
     "metadata": {},
     "output_type": "execute_result"
    }
   ],
   "source": [
    "df_comb= pd.concat([df5,df4,df3,df2,df1], axis=1)\n",
    "df_comb"
   ]
  },
  {
   "cell_type": "code",
   "execution_count": 55,
   "id": "d60ae393",
   "metadata": {},
   "outputs": [
    {
     "data": {
      "image/png": "[encoded data removed]",
      "text/plain": [
       "<Figure size 640x480 with 1 Axes>"
      ]
     },
     "metadata": {},
     "output_type": "display_data"
    }
   ],
   "source": [
    "df_comb.plot(kind='bar')\n",
    "plt.title('Layoff by Month for each Year',size=20)\n",
    "plt.xlabel('Month',size=18)\n",
    "plt.ylabel('Layoff Count',size=18);"
   ]
  },
  {
   "cell_type": "markdown",
   "id": "872db339",
   "metadata": {},
   "source": [
    "## Q11.Top 10 fund raised companies"
   ]
  },
  {
   "cell_type": "code",
   "execution_count": 56,
   "id": "8351ae6f",
   "metadata": {},
   "outputs": [
    {
     "data": {
      "text/plain": [
       "company\n",
       "Netflix    243800.0\n",
       "Uber        98800.0\n",
       "Xerox       27200.0\n",
       "Grab        26400.0\n",
       "Meta        26000.0\n",
       "Twitter     25800.0\n",
       "Cruise      20300.0\n",
       "Tesla       20200.0\n",
       "Lyft        19600.0\n",
       "WeWork      19500.0\n",
       "Name: funds_raised, dtype: float64"
      ]
     },
     "execution_count": 56,
     "metadata": {},
     "output_type": "execute_result"
    }
   ],
   "source": [
    "#top 10 funds raised companies\n",
    "df.groupby('company')['funds_raised'].sum().nlargest(10)"
   ]
  },
  {
   "cell_type": "code",
   "execution_count": 57,
   "id": "b817ee57",
   "metadata": {},
   "outputs": [
    {
     "data": {
      "image/png": "[encoded data removed]",
      "text/plain": [
       "<Figure size 640x480 with 1 Axes>"
      ]
     },
     "metadata": {},
     "output_type": "display_data"
    }
   ],
   "source": [
    "df.groupby('company')['funds_raised'].sum().nlargest(10).plot(kind='bar')\n",
    "plt.title('Funds Raised by Company')\n",
    "plt.xlabel('Company')\n",
    "plt.ylabel('Funds Raised');"
   ]
  },
  {
   "cell_type": "markdown",
   "id": "72340731",
   "metadata": {},
   "source": [
    "## Q 12. bankrupt companies?"
   ]
  },
  {
   "cell_type": "code",
   "execution_count": 58,
   "id": "3761c44c",
   "metadata": {},
   "outputs": [
    {
     "data": {
      "text/html": [
       "<div>\n",
       "<style scoped>\n",
       "    .dataframe tbody tr th:only-of-type {\n",
       "        vertical-align: middle;\n",
       "    }\n",
       "\n",
       "    .dataframe tbody tr th {\n",
       "        vertical-align: top;\n",
       "    }\n",
       "\n",
       "    .dataframe thead th {\n",
       "        text-align: right;\n",
       "    }\n",
       "</style>\n",
       "<table border=\"1\" class=\"dataframe\">\n",
       "  <thead>\n",
       "    <tr style=\"text-align: right;\">\n",
       "      <th></th>\n",
       "      <th>company</th>\n",
       "      <th>location</th>\n",
       "      <th>industry</th>\n",
       "      <th>laid_off_count</th>\n",
       "      <th>percentage</th>\n",
       "      <th>date</th>\n",
       "      <th>funds_raised</th>\n",
       "      <th>stage</th>\n",
       "      <th>country</th>\n",
       "      <th>month</th>\n",
       "      <th>day</th>\n",
       "      <th>year</th>\n",
       "    </tr>\n",
       "  </thead>\n",
       "  <tbody>\n",
       "    <tr>\n",
       "      <th>27</th>\n",
       "      <td>Trendsales</td>\n",
       "      <td>Copenhagen</td>\n",
       "      <td>Retail</td>\n",
       "      <td>79</td>\n",
       "      <td>1.0</td>\n",
       "      <td>2024-04-08</td>\n",
       "      <td>0.0</td>\n",
       "      <td>Acquired</td>\n",
       "      <td>Denmark</td>\n",
       "      <td>4</td>\n",
       "      <td>Monday</td>\n",
       "      <td>2024</td>\n",
       "    </tr>\n",
       "    <tr>\n",
       "      <th>34</th>\n",
       "      <td>Ghost Autonomy</td>\n",
       "      <td>SF Bay Area</td>\n",
       "      <td>Transportation</td>\n",
       "      <td>100</td>\n",
       "      <td>1.0</td>\n",
       "      <td>2024-04-03</td>\n",
       "      <td>247.0</td>\n",
       "      <td>Series E</td>\n",
       "      <td>United States</td>\n",
       "      <td>4</td>\n",
       "      <td>Wednesday</td>\n",
       "      <td>2024</td>\n",
       "    </tr>\n",
       "    <tr>\n",
       "      <th>65</th>\n",
       "      <td>Phantom Auto</td>\n",
       "      <td>SF Bay Area</td>\n",
       "      <td>Transportation</td>\n",
       "      <td>100</td>\n",
       "      <td>1.0</td>\n",
       "      <td>2024-03-12</td>\n",
       "      <td>86.0</td>\n",
       "      <td>Unknown</td>\n",
       "      <td>United States</td>\n",
       "      <td>3</td>\n",
       "      <td>Tuesday</td>\n",
       "      <td>2024</td>\n",
       "    </tr>\n",
       "    <tr>\n",
       "      <th>67</th>\n",
       "      <td>Deadspin</td>\n",
       "      <td>New York City</td>\n",
       "      <td>Media</td>\n",
       "      <td>11</td>\n",
       "      <td>1.0</td>\n",
       "      <td>2024-03-11</td>\n",
       "      <td>0.0</td>\n",
       "      <td>Acquired</td>\n",
       "      <td>United States</td>\n",
       "      <td>3</td>\n",
       "      <td>Monday</td>\n",
       "      <td>2024</td>\n",
       "    </tr>\n",
       "    <tr>\n",
       "      <th>81</th>\n",
       "      <td>Project Ronin</td>\n",
       "      <td>SF Bay Area</td>\n",
       "      <td>Healthcare</td>\n",
       "      <td>150</td>\n",
       "      <td>1.0</td>\n",
       "      <td>2024-03-01</td>\n",
       "      <td>0.0</td>\n",
       "      <td>Unknown</td>\n",
       "      <td>United States</td>\n",
       "      <td>3</td>\n",
       "      <td>Friday</td>\n",
       "      <td>2024</td>\n",
       "    </tr>\n",
       "    <tr>\n",
       "      <th>...</th>\n",
       "      <td>...</td>\n",
       "      <td>...</td>\n",
       "      <td>...</td>\n",
       "      <td>...</td>\n",
       "      <td>...</td>\n",
       "      <td>...</td>\n",
       "      <td>...</td>\n",
       "      <td>...</td>\n",
       "      <td>...</td>\n",
       "      <td>...</td>\n",
       "      <td>...</td>\n",
       "      <td>...</td>\n",
       "    </tr>\n",
       "    <tr>\n",
       "      <th>3486</th>\n",
       "      <td>Amplero</td>\n",
       "      <td>Seattle</td>\n",
       "      <td>Marketing</td>\n",
       "      <td>17</td>\n",
       "      <td>1.0</td>\n",
       "      <td>2020-03-29</td>\n",
       "      <td>25.0</td>\n",
       "      <td>Series B</td>\n",
       "      <td>United States</td>\n",
       "      <td>3</td>\n",
       "      <td>Sunday</td>\n",
       "      <td>2020</td>\n",
       "    </tr>\n",
       "    <tr>\n",
       "      <th>3493</th>\n",
       "      <td>HOOQ</td>\n",
       "      <td>Singapore</td>\n",
       "      <td>Consumer</td>\n",
       "      <td>250</td>\n",
       "      <td>1.0</td>\n",
       "      <td>2020-03-27</td>\n",
       "      <td>95.0</td>\n",
       "      <td>Unknown</td>\n",
       "      <td>Singapore</td>\n",
       "      <td>3</td>\n",
       "      <td>Friday</td>\n",
       "      <td>2020</td>\n",
       "    </tr>\n",
       "    <tr>\n",
       "      <th>3521</th>\n",
       "      <td>Consider.co</td>\n",
       "      <td>SF Bay Area</td>\n",
       "      <td>Other</td>\n",
       "      <td>13</td>\n",
       "      <td>1.0</td>\n",
       "      <td>2020-03-26</td>\n",
       "      <td>5.0</td>\n",
       "      <td>Seed</td>\n",
       "      <td>United States</td>\n",
       "      <td>3</td>\n",
       "      <td>Thursday</td>\n",
       "      <td>2020</td>\n",
       "    </tr>\n",
       "    <tr>\n",
       "      <th>3563</th>\n",
       "      <td>Ejento</td>\n",
       "      <td>SF Bay Area</td>\n",
       "      <td>Recruiting</td>\n",
       "      <td>84</td>\n",
       "      <td>1.0</td>\n",
       "      <td>2020-03-19</td>\n",
       "      <td>0.0</td>\n",
       "      <td>Unknown</td>\n",
       "      <td>United States</td>\n",
       "      <td>3</td>\n",
       "      <td>Thursday</td>\n",
       "      <td>2020</td>\n",
       "    </tr>\n",
       "    <tr>\n",
       "      <th>3571</th>\n",
       "      <td>Help.com</td>\n",
       "      <td>Austin</td>\n",
       "      <td>Support</td>\n",
       "      <td>16</td>\n",
       "      <td>1.0</td>\n",
       "      <td>2020-03-16</td>\n",
       "      <td>6.0</td>\n",
       "      <td>Seed</td>\n",
       "      <td>United States</td>\n",
       "      <td>3</td>\n",
       "      <td>Monday</td>\n",
       "      <td>2020</td>\n",
       "    </tr>\n",
       "  </tbody>\n",
       "</table>\n",
       "<p>63 rows × 12 columns</p>\n",
       "</div>"
      ],
      "text/plain": [
       "             company       location        industry  laid_off_count  \\\n",
       "27        Trendsales     Copenhagen          Retail              79   \n",
       "34    Ghost Autonomy    SF Bay Area  Transportation             100   \n",
       "65      Phantom Auto    SF Bay Area  Transportation             100   \n",
       "67          Deadspin  New York City           Media              11   \n",
       "81     Project Ronin    SF Bay Area      Healthcare             150   \n",
       "...              ...            ...             ...             ...   \n",
       "3486         Amplero        Seattle       Marketing              17   \n",
       "3493            HOOQ      Singapore        Consumer             250   \n",
       "3521     Consider.co    SF Bay Area           Other              13   \n",
       "3563          Ejento    SF Bay Area      Recruiting              84   \n",
       "3571        Help.com         Austin         Support              16   \n",
       "\n",
       "      percentage       date  funds_raised     stage        country  month  \\\n",
       "27           1.0 2024-04-08           0.0  Acquired        Denmark      4   \n",
       "34           1.0 2024-04-03         247.0  Series E  United States      4   \n",
       "65           1.0 2024-03-12          86.0   Unknown  United States      3   \n",
       "67           1.0 2024-03-11           0.0  Acquired  United States      3   \n",
       "81           1.0 2024-03-01           0.0   Unknown  United States      3   \n",
       "...          ...        ...           ...       ...            ...    ...   \n",
       "3486         1.0 2020-03-29          25.0  Series B  United States      3   \n",
       "3493         1.0 2020-03-27          95.0   Unknown      Singapore      3   \n",
       "3521         1.0 2020-03-26           5.0      Seed  United States      3   \n",
       "3563         1.0 2020-03-19           0.0   Unknown  United States      3   \n",
       "3571         1.0 2020-03-16           6.0      Seed  United States      3   \n",
       "\n",
       "            day  year  \n",
       "27       Monday  2024  \n",
       "34    Wednesday  2024  \n",
       "65      Tuesday  2024  \n",
       "67       Monday  2024  \n",
       "81       Friday  2024  \n",
       "...         ...   ...  \n",
       "3486     Sunday  2020  \n",
       "3493     Friday  2020  \n",
       "3521   Thursday  2020  \n",
       "3563   Thursday  2020  \n",
       "3571     Monday  2020  \n",
       "\n",
       "[63 rows x 12 columns]"
      ]
     },
     "execution_count": 58,
     "metadata": {},
     "output_type": "execute_result"
    }
   ],
   "source": [
    "#filter the data frame to get the number of the companies that went bankrupt\n",
    "df_bankrupt = df.query('percentage == 1')\n",
    "df_bankrupt"
   ]
  },
  {
   "cell_type": "code",
   "execution_count": 59,
   "id": "b1b355d9",
   "metadata": {},
   "outputs": [
    {
     "data": {
      "image/png": "[encoded data removed]",
      "text/plain": [
       "<Figure size 640x480 with 1 Axes>"
      ]
     },
     "metadata": {},
     "output_type": "display_data"
    }
   ],
   "source": [
    "#plotting it with bar chart\n",
    "df_bankrupt.year.value_counts().plot(kind='bar')\n",
    "plt.title('Bankrupt Companies by Year')\n",
    "plt.xlabel('Year')\n",
    "plt.ylabel('Bankrupt Count');"
   ]
  },
  {
   "cell_type": "code",
   "execution_count": 60,
   "id": "47bdf8fd",
   "metadata": {},
   "outputs": [
    {
     "data": {
      "text/plain": [
       "country\n",
       "United States     36\n",
       "Australia          5\n",
       "United Kingdom     4\n",
       "India              3\n",
       "Germany            3\n",
       "Singapore          3\n",
       "Denmark            2\n",
       "Israel             2\n",
       "Ireland            1\n",
       "Nigeria            1\n",
       "Canada             1\n",
       "Indonesia          1\n",
       "Brazil             1\n",
       "Name: count, dtype: int64"
      ]
     },
     "execution_count": 60,
     "metadata": {},
     "output_type": "execute_result"
    }
   ],
   "source": [
    "#bankrupt companies by country\n",
    "df_bankrupt.country.value_counts()"
   ]
  },
  {
   "cell_type": "code",
   "execution_count": 61,
   "id": "cf1e563d",
   "metadata": {},
   "outputs": [
    {
     "data": {
      "image/png": "[encoded data removed]",
      "text/plain": [
       "<Figure size 640x480 with 1 Axes>"
      ]
     },
     "metadata": {},
     "output_type": "display_data"
    }
   ],
   "source": [
    "#plotting it with bar chart\n",
    "df_bankrupt.country.value_counts().plot(kind='bar')\n",
    "plt.title('Bankrupt Companies by Country')\n",
    "plt.xlabel('Country')\n",
    "plt.ylabel('Bankrupt Count');"
   ]
  },
  {
   "cell_type": "markdown",
   "id": "cffd1bd5",
   "metadata": {},
   "source": [
    "## Q13. Layoffs in india across different location?"
   ]
  },
  {
   "cell_type": "code",
   "execution_count": 62,
   "id": "2a4738e9",
   "metadata": {},
   "outputs": [],
   "source": [
    "#create a data frame with only Indian companies\n",
    "df_India = df.query('country == \"India\"')"
   ]
  },
  {
   "cell_type": "code",
   "execution_count": 63,
   "id": "7af3bd6d",
   "metadata": {},
   "outputs": [
    {
     "data": {
      "text/plain": [
       "location\n",
       "Bengaluru    19367\n",
       "Gurugram      5696\n",
       "New Delhi     1110\n",
       "Mumbai         945\n",
       "Ahmedabad      500\n",
       "Chennai        450\n",
       "Kolkata        125\n",
       "Noida          120\n",
       "Pune            30\n",
       "Nashik          19\n",
       "Name: laid_off_count, dtype: int32"
      ]
     },
     "execution_count": 63,
     "metadata": {},
     "output_type": "execute_result"
    }
   ],
   "source": [
    "#largest 10 location \n",
    "df_India.groupby('location')['laid_off_count'].sum().nlargest(10)"
   ]
  },
  {
   "cell_type": "markdown",
   "id": "4f5bfd97",
   "metadata": {},
   "source": [
    "## 14. Layoffs in United States in across different location?"
   ]
  },
  {
   "cell_type": "code",
   "execution_count": 64,
   "id": "b6f4e890",
   "metadata": {},
   "outputs": [],
   "source": [
    "df_US = df.query('country == \"United States\"')"
   ]
  },
  {
   "cell_type": "code",
   "execution_count": 65,
   "id": "eb3801be",
   "metadata": {},
   "outputs": [
    {
     "data": {
      "text/plain": [
       "location\n",
       "SF Bay Area      150795\n",
       "Seattle           38513\n",
       "New York City     31006\n",
       "Austin            30949\n",
       "Boston            13892\n",
       "Los Angeles        8040\n",
       "Chicago            7210\n",
       "Boise              7200\n",
       "Phoenix            4969\n",
       "San Diego          4408\n",
       "Name: laid_off_count, dtype: int32"
      ]
     },
     "execution_count": 65,
     "metadata": {},
     "output_type": "execute_result"
    }
   ],
   "source": [
    "#largest 10 location \n",
    "df_US.groupby('location')['laid_off_count'].sum().nlargest(10)"
   ]
  }
 ],
 "metadata": {
  "kernelspec": {
   "display_name": "Python 3 (ipykernel)",
   "language": "python",
   "name": "python3"
  },
  "language_info": {
   "codemirror_mode": {
    "name": "ipython",
    "version": 3
   },
   "file_extension": ".py",
   "mimetype": "text/x-python",
   "name": "python",
   "nbconvert_exporter": "python",
   "pygments_lexer": "ipython3",
   "version": "3.11.5"
  }
 },
 "nbformat": 4,
 "nbformat_minor": 5
}
